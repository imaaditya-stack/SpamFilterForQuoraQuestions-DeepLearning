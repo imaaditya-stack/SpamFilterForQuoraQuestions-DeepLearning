{
  "nbformat": 4,
  "nbformat_minor": 0,
  "metadata": {
    "colab": {
      "name": "SpamFilterTrain.ipynb",
      "provenance": [],
      "collapsed_sections": [],
      "machine_shape": "hm",
      "authorship_tag": "ABX9TyNgT02p9c3lbP6v/Fo9R1WH",
      "include_colab_link": true
    },
    "kernelspec": {
      "name": "python3",
      "display_name": "Python 3"
    },
    "accelerator": "GPU"
  },
  "cells": [
    {
      "cell_type": "markdown",
      "metadata": {
        "id": "view-in-github",
        "colab_type": "text"
      },
      "source": [
        "<a href=\"https://colab.research.google.com/github/imaaditya-stack/SpamFilterForQuoraQuestions-DeepLearning/blob/master/SpamFilterTrain.ipynb\" target=\"_parent\"><img src=\"https://colab.research.google.com/assets/colab-badge.svg\" alt=\"Open In Colab\"/></a>"
      ]
    },
    {
      "cell_type": "markdown",
      "metadata": {
        "id": "jAIAyGwkBzL1",
        "colab_type": "text"
      },
      "source": [
        "This notebook contains Training a Long Short Term Memory Neural Network LSTM from scratch to classify between **\"spam\"** and **not spam**\" examples of Quora Questions. <br>\n",
        "It is recommended to run this script on GPU, as recurrent\n",
        "networks are quite computationally intensive.\n"
      ]
    },
    {
      "cell_type": "code",
      "metadata": {
        "id": "w9Fg0C0ebiS9",
        "colab_type": "code",
        "outputId": "890febe2-b04f-4048-bca3-728f59a85d9e",
        "colab": {
          "base_uri": "https://localhost:8080/",
          "height": 124
        }
      },
      "source": [
        "from google.colab import drive\n",
        "drive.mount('/content/drive')"
      ],
      "execution_count": 6,
      "outputs": [
        {
          "output_type": "stream",
          "text": [
            "Go to this URL in a browser: https://accounts.google.com/o/oauth2/auth?client_id=947318989803-6bn6qk8qdgf4n4g3pfee6491hc0brc4i.apps.googleusercontent.com&redirect_uri=urn%3aietf%3awg%3aoauth%3a2.0%3aoob&response_type=code&scope=email%20https%3a%2f%2fwww.googleapis.com%2fauth%2fdocs.test%20https%3a%2f%2fwww.googleapis.com%2fauth%2fdrive%20https%3a%2f%2fwww.googleapis.com%2fauth%2fdrive.photos.readonly%20https%3a%2f%2fwww.googleapis.com%2fauth%2fpeopleapi.readonly\n",
            "\n",
            "Enter your authorization code:\n",
            "··········\n",
            "Mounted at /content/drive\n"
          ],
          "name": "stdout"
        }
      ]
    },
    {
      "cell_type": "code",
      "metadata": {
        "id": "4ZBlXsohd5uJ",
        "colab_type": "code",
        "colab": {}
      },
      "source": [
        "%tensorflow_version 2.x"
      ],
      "execution_count": 0,
      "outputs": []
    },
    {
      "cell_type": "code",
      "metadata": {
        "id": "6Qo6sr_pb1Rn",
        "colab_type": "code",
        "colab": {}
      },
      "source": [
        "#Importing Packages\n",
        "import pandas as pd\n",
        "import numpy as np\n",
        "from sklearn.model_selection import train_test_split\n",
        "from nltk import word_tokenize\n",
        "from tensorflow.keras.preprocessing.text import Tokenizer\n",
        "from tensorflow.keras.preprocessing import sequence\n",
        "from tensorflow.keras.layers import LSTM, Activation, Dense, Dropout, Input, Embedding\n",
        "from tensorflow.keras.models import Model"
      ],
      "execution_count": 0,
      "outputs": []
    },
    {
      "cell_type": "code",
      "metadata": {
        "id": "qEuuXi8VbzO1",
        "colab_type": "code",
        "colab": {}
      },
      "source": [
        "#Reading data\n",
        "df = pd.read_csv(\"/content/drive/My Drive/SpamFilterCleanedData.csv\",sep=',')"
      ],
      "execution_count": 0,
      "outputs": []
    },
    {
      "cell_type": "code",
      "metadata": {
        "id": "F_71k1pFfM-w",
        "colab_type": "code",
        "outputId": "eea03ef8-7aca-4842-eab9-0792f520c2d0",
        "colab": {
          "base_uri": "https://localhost:8080/",
          "height": 35
        }
      },
      "source": [
        "df.shape"
      ],
      "execution_count": 0,
      "outputs": [
        {
          "output_type": "execute_result",
          "data": {
            "text/plain": [
              "(1306122, 2)"
            ]
          },
          "metadata": {
            "tags": []
          },
          "execution_count": 33
        }
      ]
    },
    {
      "cell_type": "code",
      "metadata": {
        "id": "OhAI1LMQeZso",
        "colab_type": "code",
        "outputId": "ad30e25a-7d1f-460a-9b58-88acb4754943",
        "colab": {
          "base_uri": "https://localhost:8080/",
          "height": 202
        }
      },
      "source": [
        "df.head()"
      ],
      "execution_count": 0,
      "outputs": [
        {
          "output_type": "execute_result",
          "data": {
            "text/html": [
              "<div>\n",
              "<style scoped>\n",
              "    .dataframe tbody tr th:only-of-type {\n",
              "        vertical-align: middle;\n",
              "    }\n",
              "\n",
              "    .dataframe tbody tr th {\n",
              "        vertical-align: top;\n",
              "    }\n",
              "\n",
              "    .dataframe thead th {\n",
              "        text-align: right;\n",
              "    }\n",
              "</style>\n",
              "<table border=\"1\" class=\"dataframe\">\n",
              "  <thead>\n",
              "    <tr style=\"text-align: right;\">\n",
              "      <th></th>\n",
              "      <th>Question_text_modified</th>\n",
              "      <th>target</th>\n",
              "    </tr>\n",
              "  </thead>\n",
              "  <tbody>\n",
              "    <tr>\n",
              "      <th>0</th>\n",
              "      <td>quebec nationalists see province nation</td>\n",
              "      <td>0</td>\n",
              "    </tr>\n",
              "    <tr>\n",
              "      <th>1</th>\n",
              "      <td>adopt dog would encourage people shop</td>\n",
              "      <td>0</td>\n",
              "    </tr>\n",
              "    <tr>\n",
              "      <th>2</th>\n",
              "      <td>velocity affect time space geometry</td>\n",
              "      <td>0</td>\n",
              "    </tr>\n",
              "    <tr>\n",
              "      <th>3</th>\n",
              "      <td>otto von guericke use magdeburg hemispheres</td>\n",
              "      <td>0</td>\n",
              "    </tr>\n",
              "    <tr>\n",
              "      <th>4</th>\n",
              "      <td>convert montra helicon mountain bike change tyres</td>\n",
              "      <td>0</td>\n",
              "    </tr>\n",
              "  </tbody>\n",
              "</table>\n",
              "</div>"
            ],
            "text/plain": [
              "                              Question_text_modified  target\n",
              "0            quebec nationalists see province nation       0\n",
              "1              adopt dog would encourage people shop       0\n",
              "2                velocity affect time space geometry       0\n",
              "3        otto von guericke use magdeburg hemispheres       0\n",
              "4  convert montra helicon mountain bike change tyres       0"
            ]
          },
          "metadata": {
            "tags": []
          },
          "execution_count": 34
        }
      ]
    },
    {
      "cell_type": "code",
      "metadata": {
        "id": "p2v9WwvJgTUb",
        "colab_type": "code",
        "outputId": "4ef99da5-eac3-48c7-83cd-2f31b9a71029",
        "colab": {
          "base_uri": "https://localhost:8080/",
          "height": 69
        }
      },
      "source": [
        "#Checking for Nan values\n",
        "df.isnull().any()"
      ],
      "execution_count": 0,
      "outputs": [
        {
          "output_type": "execute_result",
          "data": {
            "text/plain": [
              "Question_text_modified     True\n",
              "target                    False\n",
              "dtype: bool"
            ]
          },
          "metadata": {
            "tags": []
          },
          "execution_count": 35
        }
      ]
    },
    {
      "cell_type": "code",
      "metadata": {
        "id": "hMj6gab2gdjg",
        "colab_type": "code",
        "outputId": "a95402ca-65f6-4b7d-f74d-fdf8f592dc5f",
        "colab": {
          "base_uri": "https://localhost:8080/",
          "height": 69
        }
      },
      "source": [
        "df.isnull().sum()"
      ],
      "execution_count": 0,
      "outputs": [
        {
          "output_type": "execute_result",
          "data": {
            "text/plain": [
              "Question_text_modified    404\n",
              "target                      0\n",
              "dtype: int64"
            ]
          },
          "metadata": {
            "tags": []
          },
          "execution_count": 36
        }
      ]
    },
    {
      "cell_type": "code",
      "metadata": {
        "id": "VCM6SRZbgS1Y",
        "colab_type": "code",
        "colab": {}
      },
      "source": [
        "#Removing Nans\n",
        "df.dropna(axis=0,inplace=True)"
      ],
      "execution_count": 0,
      "outputs": []
    },
    {
      "cell_type": "code",
      "metadata": {
        "id": "xk5RRPROggwX",
        "colab_type": "code",
        "outputId": "50a1e9fc-831f-40ab-a2b3-8ecc0226d8ea",
        "colab": {
          "base_uri": "https://localhost:8080/",
          "height": 35
        }
      },
      "source": [
        "df.isnull().any().any()"
      ],
      "execution_count": 0,
      "outputs": [
        {
          "output_type": "execute_result",
          "data": {
            "text/plain": [
              "False"
            ]
          },
          "metadata": {
            "tags": []
          },
          "execution_count": 38
        }
      ]
    },
    {
      "cell_type": "markdown",
      "metadata": {
        "id": "r1phqaSQCiy7",
        "colab_type": "text"
      },
      "source": [
        "As the dataset is cleaned earlier we will again check some basic features."
      ]
    },
    {
      "cell_type": "code",
      "metadata": {
        "id": "vw-rMA4Cb0Kz",
        "colab_type": "code",
        "outputId": "e9d64acf-3bc7-402f-c8d4-fc8a2b3ce185",
        "colab": {
          "base_uri": "https://localhost:8080/",
          "height": 202
        }
      },
      "source": [
        "#Number of words\n",
        "df[\"word_count\"] = df[\"Question_text_modified\"].apply(lambda x: len(str(x).split(\" \")))\n",
        "df[[\"Question_text_modified\",\"word_count\"]].head()"
      ],
      "execution_count": 23,
      "outputs": [
        {
          "output_type": "execute_result",
          "data": {
            "text/html": [
              "<div>\n",
              "<style scoped>\n",
              "    .dataframe tbody tr th:only-of-type {\n",
              "        vertical-align: middle;\n",
              "    }\n",
              "\n",
              "    .dataframe tbody tr th {\n",
              "        vertical-align: top;\n",
              "    }\n",
              "\n",
              "    .dataframe thead th {\n",
              "        text-align: right;\n",
              "    }\n",
              "</style>\n",
              "<table border=\"1\" class=\"dataframe\">\n",
              "  <thead>\n",
              "    <tr style=\"text-align: right;\">\n",
              "      <th></th>\n",
              "      <th>Question_text_modified</th>\n",
              "      <th>word_count</th>\n",
              "    </tr>\n",
              "  </thead>\n",
              "  <tbody>\n",
              "    <tr>\n",
              "      <th>0</th>\n",
              "      <td>quebec nationalists see province nation</td>\n",
              "      <td>5</td>\n",
              "    </tr>\n",
              "    <tr>\n",
              "      <th>1</th>\n",
              "      <td>adopt dog would encourage people shop</td>\n",
              "      <td>6</td>\n",
              "    </tr>\n",
              "    <tr>\n",
              "      <th>2</th>\n",
              "      <td>velocity affect time space geometry</td>\n",
              "      <td>5</td>\n",
              "    </tr>\n",
              "    <tr>\n",
              "      <th>3</th>\n",
              "      <td>otto von guericke use magdeburg hemispheres</td>\n",
              "      <td>6</td>\n",
              "    </tr>\n",
              "    <tr>\n",
              "      <th>4</th>\n",
              "      <td>convert montra helicon mountain bike change tyres</td>\n",
              "      <td>7</td>\n",
              "    </tr>\n",
              "  </tbody>\n",
              "</table>\n",
              "</div>"
            ],
            "text/plain": [
              "                              Question_text_modified  word_count\n",
              "0            quebec nationalists see province nation           5\n",
              "1              adopt dog would encourage people shop           6\n",
              "2                velocity affect time space geometry           5\n",
              "3        otto von guericke use magdeburg hemispheres           6\n",
              "4  convert montra helicon mountain bike change tyres           7"
            ]
          },
          "metadata": {
            "tags": []
          },
          "execution_count": 23
        }
      ]
    },
    {
      "cell_type": "code",
      "metadata": {
        "id": "sItpVZhWco89",
        "colab_type": "code",
        "outputId": "d33641de-9756-4ce2-8b89-becbd2165443",
        "colab": {
          "base_uri": "https://localhost:8080/",
          "height": 35
        }
      },
      "source": [
        "max(df[\"word_count\"]), min(df[\"word_count\"])"
      ],
      "execution_count": 0,
      "outputs": [
        {
          "output_type": "execute_result",
          "data": {
            "text/plain": [
              "(53, 1)"
            ]
          },
          "metadata": {
            "tags": []
          },
          "execution_count": 6
        }
      ]
    },
    {
      "cell_type": "code",
      "metadata": {
        "id": "ls2y-HJBb_h9",
        "colab_type": "code",
        "outputId": "9006d6b2-40b7-4304-97c0-ce04adea4333",
        "colab": {
          "base_uri": "https://localhost:8080/",
          "height": 202
        }
      },
      "source": [
        "#Number of characters\n",
        "df['char_count'] = df['Question_text_modified'].str.len() ## this also includes spaces\n",
        "df[['Question_text_modified','char_count']].head()"
      ],
      "execution_count": 0,
      "outputs": [
        {
          "output_type": "execute_result",
          "data": {
            "text/html": [
              "<div>\n",
              "<style scoped>\n",
              "    .dataframe tbody tr th:only-of-type {\n",
              "        vertical-align: middle;\n",
              "    }\n",
              "\n",
              "    .dataframe tbody tr th {\n",
              "        vertical-align: top;\n",
              "    }\n",
              "\n",
              "    .dataframe thead th {\n",
              "        text-align: right;\n",
              "    }\n",
              "</style>\n",
              "<table border=\"1\" class=\"dataframe\">\n",
              "  <thead>\n",
              "    <tr style=\"text-align: right;\">\n",
              "      <th></th>\n",
              "      <th>Question_text_modified</th>\n",
              "      <th>char_count</th>\n",
              "    </tr>\n",
              "  </thead>\n",
              "  <tbody>\n",
              "    <tr>\n",
              "      <th>0</th>\n",
              "      <td>quebec nationalists see province nation</td>\n",
              "      <td>39.0</td>\n",
              "    </tr>\n",
              "    <tr>\n",
              "      <th>1</th>\n",
              "      <td>adopt dog would encourage people shop</td>\n",
              "      <td>37.0</td>\n",
              "    </tr>\n",
              "    <tr>\n",
              "      <th>2</th>\n",
              "      <td>velocity affect time space geometry</td>\n",
              "      <td>35.0</td>\n",
              "    </tr>\n",
              "    <tr>\n",
              "      <th>3</th>\n",
              "      <td>otto von guericke use magdeburg hemispheres</td>\n",
              "      <td>43.0</td>\n",
              "    </tr>\n",
              "    <tr>\n",
              "      <th>4</th>\n",
              "      <td>convert montra helicon mountain bike change tyres</td>\n",
              "      <td>49.0</td>\n",
              "    </tr>\n",
              "  </tbody>\n",
              "</table>\n",
              "</div>"
            ],
            "text/plain": [
              "                              Question_text_modified  char_count\n",
              "0            quebec nationalists see province nation        39.0\n",
              "1              adopt dog would encourage people shop        37.0\n",
              "2                velocity affect time space geometry        35.0\n",
              "3        otto von guericke use magdeburg hemispheres        43.0\n",
              "4  convert montra helicon mountain bike change tyres        49.0"
            ]
          },
          "metadata": {
            "tags": []
          },
          "execution_count": 7
        }
      ]
    },
    {
      "cell_type": "code",
      "metadata": {
        "id": "700p9RtpcqD8",
        "colab_type": "code",
        "outputId": "adad5a53-2feb-49bd-9b09-4109cc87d52c",
        "colab": {
          "base_uri": "https://localhost:8080/",
          "height": 35
        }
      },
      "source": [
        "max(df[\"char_count\"]), min(df[\"char_count\"])"
      ],
      "execution_count": 0,
      "outputs": [
        {
          "output_type": "execute_result",
          "data": {
            "text/plain": [
              "(335.0, 1.0)"
            ]
          },
          "metadata": {
            "tags": []
          },
          "execution_count": 8
        }
      ]
    },
    {
      "cell_type": "code",
      "metadata": {
        "id": "4PQeCIaMgmcD",
        "colab_type": "code",
        "outputId": "9a01feda-6dd9-4a81-b239-fd3e67c8337c",
        "colab": {
          "base_uri": "https://localhost:8080/",
          "height": 202
        }
      },
      "source": [
        "#Number of special words\n",
        "df['hastags'] = df['Question_text_modified'].apply(lambda x: len([x for x in x.split() if x.startswith('#')]))\n",
        "df[['Question_text_modified','hastags']].head()"
      ],
      "execution_count": 0,
      "outputs": [
        {
          "output_type": "execute_result",
          "data": {
            "text/html": [
              "<div>\n",
              "<style scoped>\n",
              "    .dataframe tbody tr th:only-of-type {\n",
              "        vertical-align: middle;\n",
              "    }\n",
              "\n",
              "    .dataframe tbody tr th {\n",
              "        vertical-align: top;\n",
              "    }\n",
              "\n",
              "    .dataframe thead th {\n",
              "        text-align: right;\n",
              "    }\n",
              "</style>\n",
              "<table border=\"1\" class=\"dataframe\">\n",
              "  <thead>\n",
              "    <tr style=\"text-align: right;\">\n",
              "      <th></th>\n",
              "      <th>Question_text_modified</th>\n",
              "      <th>hastags</th>\n",
              "    </tr>\n",
              "  </thead>\n",
              "  <tbody>\n",
              "    <tr>\n",
              "      <th>0</th>\n",
              "      <td>quebec nationalists see province nation</td>\n",
              "      <td>0</td>\n",
              "    </tr>\n",
              "    <tr>\n",
              "      <th>1</th>\n",
              "      <td>adopt dog would encourage people shop</td>\n",
              "      <td>0</td>\n",
              "    </tr>\n",
              "    <tr>\n",
              "      <th>2</th>\n",
              "      <td>velocity affect time space geometry</td>\n",
              "      <td>0</td>\n",
              "    </tr>\n",
              "    <tr>\n",
              "      <th>3</th>\n",
              "      <td>otto von guericke use magdeburg hemispheres</td>\n",
              "      <td>0</td>\n",
              "    </tr>\n",
              "    <tr>\n",
              "      <th>4</th>\n",
              "      <td>convert montra helicon mountain bike change tyres</td>\n",
              "      <td>0</td>\n",
              "    </tr>\n",
              "  </tbody>\n",
              "</table>\n",
              "</div>"
            ],
            "text/plain": [
              "                              Question_text_modified  hastags\n",
              "0            quebec nationalists see province nation        0\n",
              "1              adopt dog would encourage people shop        0\n",
              "2                velocity affect time space geometry        0\n",
              "3        otto von guericke use magdeburg hemispheres        0\n",
              "4  convert montra helicon mountain bike change tyres        0"
            ]
          },
          "metadata": {
            "tags": []
          },
          "execution_count": 40
        }
      ]
    },
    {
      "cell_type": "code",
      "metadata": {
        "id": "DJlhUD7gg-ak",
        "colab_type": "code",
        "outputId": "1ad5fa8f-6b75-4101-f4cf-d5c672def3b4",
        "colab": {
          "base_uri": "https://localhost:8080/",
          "height": 35
        }
      },
      "source": [
        "max(df[\"hastags\"]), min(df[\"hastags\"])"
      ],
      "execution_count": 0,
      "outputs": [
        {
          "output_type": "execute_result",
          "data": {
            "text/plain": [
              "(0, 0)"
            ]
          },
          "metadata": {
            "tags": []
          },
          "execution_count": 43
        }
      ]
    },
    {
      "cell_type": "code",
      "metadata": {
        "id": "ZcXY61A7gmR5",
        "colab_type": "code",
        "outputId": "7999af9a-06aa-4701-e2ee-16fbcc7a1479",
        "colab": {
          "base_uri": "https://localhost:8080/",
          "height": 202
        }
      },
      "source": [
        "#Number of numerics\n",
        "df['numerics'] = df['Question_text_modified'].apply(lambda x: len([x for x in x.split() if x.isdigit()]))\n",
        "df[['Question_text_modified','numerics']].head()"
      ],
      "execution_count": 0,
      "outputs": [
        {
          "output_type": "execute_result",
          "data": {
            "text/html": [
              "<div>\n",
              "<style scoped>\n",
              "    .dataframe tbody tr th:only-of-type {\n",
              "        vertical-align: middle;\n",
              "    }\n",
              "\n",
              "    .dataframe tbody tr th {\n",
              "        vertical-align: top;\n",
              "    }\n",
              "\n",
              "    .dataframe thead th {\n",
              "        text-align: right;\n",
              "    }\n",
              "</style>\n",
              "<table border=\"1\" class=\"dataframe\">\n",
              "  <thead>\n",
              "    <tr style=\"text-align: right;\">\n",
              "      <th></th>\n",
              "      <th>Question_text_modified</th>\n",
              "      <th>numerics</th>\n",
              "    </tr>\n",
              "  </thead>\n",
              "  <tbody>\n",
              "    <tr>\n",
              "      <th>0</th>\n",
              "      <td>quebec nationalists see province nation</td>\n",
              "      <td>0</td>\n",
              "    </tr>\n",
              "    <tr>\n",
              "      <th>1</th>\n",
              "      <td>adopt dog would encourage people shop</td>\n",
              "      <td>0</td>\n",
              "    </tr>\n",
              "    <tr>\n",
              "      <th>2</th>\n",
              "      <td>velocity affect time space geometry</td>\n",
              "      <td>0</td>\n",
              "    </tr>\n",
              "    <tr>\n",
              "      <th>3</th>\n",
              "      <td>otto von guericke use magdeburg hemispheres</td>\n",
              "      <td>0</td>\n",
              "    </tr>\n",
              "    <tr>\n",
              "      <th>4</th>\n",
              "      <td>convert montra helicon mountain bike change tyres</td>\n",
              "      <td>0</td>\n",
              "    </tr>\n",
              "  </tbody>\n",
              "</table>\n",
              "</div>"
            ],
            "text/plain": [
              "                              Question_text_modified  numerics\n",
              "0            quebec nationalists see province nation         0\n",
              "1              adopt dog would encourage people shop         0\n",
              "2                velocity affect time space geometry         0\n",
              "3        otto von guericke use magdeburg hemispheres         0\n",
              "4  convert montra helicon mountain bike change tyres         0"
            ]
          },
          "metadata": {
            "tags": []
          },
          "execution_count": 41
        }
      ]
    },
    {
      "cell_type": "code",
      "metadata": {
        "id": "-xPVms16hFTD",
        "colab_type": "code",
        "outputId": "25a2728a-3d62-4743-b7de-e1cc1ae152d5",
        "colab": {
          "base_uri": "https://localhost:8080/",
          "height": 35
        }
      },
      "source": [
        "max(df[\"numerics\"]), min(df[\"numerics\"])"
      ],
      "execution_count": 0,
      "outputs": [
        {
          "output_type": "execute_result",
          "data": {
            "text/plain": [
              "(2, 0)"
            ]
          },
          "metadata": {
            "tags": []
          },
          "execution_count": 44
        }
      ]
    },
    {
      "cell_type": "code",
      "metadata": {
        "id": "VPernCC_hM0d",
        "colab_type": "code",
        "outputId": "d09f3059-bbe0-458b-d369-ed481f4f8078",
        "colab": {
          "base_uri": "https://localhost:8080/",
          "height": 87
        }
      },
      "source": [
        "#I do not know how to clean such data so i kept it as it is.\n",
        "df[\"Question_text_modified\"][df[\"numerics\"]==2]"
      ],
      "execution_count": 0,
      "outputs": [
        {
          "output_type": "execute_result",
          "data": {
            "text/plain": [
              "687189    evaluate limit ⁴x ⁴ ³x ³ x approach give function\n",
              "853043                               remainder ²²² ³ divide\n",
              "886025                                         solve ³ ⁿ² ²\n",
              "Name: Question_text_modified, dtype: object"
            ]
          },
          "metadata": {
            "tags": []
          },
          "execution_count": 45
        }
      ]
    },
    {
      "cell_type": "markdown",
      "metadata": {
        "id": "MKDXVho1DSXr",
        "colab_type": "text"
      },
      "source": [
        "### Splitting dataset into training and validation set which will be used for tuning the model performance"
      ]
    },
    {
      "cell_type": "code",
      "metadata": {
        "id": "45QZ5dtBdroz",
        "colab_type": "code",
        "outputId": "8ca599e5-26d5-4ead-90ea-041790db9d15",
        "colab": {
          "base_uri": "https://localhost:8080/",
          "height": 35
        }
      },
      "source": [
        "X = df[\"Question_text_modified\"]\n",
        "y = df[\"target\"]\n",
        "X_train, X_test, y_train, y_test = train_test_split(X,y,test_size=0.2,stratify=y,random_state=2)\n",
        "(X_train.shape, X_test.shape, y_train.shape, y_test.shape)"
      ],
      "execution_count": 24,
      "outputs": [
        {
          "output_type": "execute_result",
          "data": {
            "text/plain": [
              "((1044574,), (261144,), (1044574,), (261144,))"
            ]
          },
          "metadata": {
            "tags": []
          },
          "execution_count": 24
        }
      ]
    },
    {
      "cell_type": "markdown",
      "metadata": {
        "id": "tN_tGFeSDf_i",
        "colab_type": "text"
      },
      "source": [
        "#Word Embedding\n",
        "Word embedding is the collective name for a set of language modeling and feature learning techniques in natural language processing (NLP) where words or phrases from the vocabulary are mapped to vectors of real numbers."
      ]
    },
    {
      "cell_type": "code",
      "metadata": {
        "id": "nGpIjDtKDfiZ",
        "colab_type": "code",
        "colab": {}
      },
      "source": [
        "def tokenization(data):\n",
        "  \"\"\"This function creates the vocabulary index based on word frequency and \n",
        "  Transforms each text in texts to a sequence of integers and \n",
        "  also returns vocabluary length\n",
        "  \"\"\"\n",
        "  tok = Tokenizer(char_level=False,split=' ')\n",
        "  tok.fit_on_texts(data)\n",
        "  return tok.texts_to_sequences(data), len(tok.index_word.keys())\n",
        "\n",
        "def padding(sequences_data,maxlen):\n",
        "  \"\"\"This function pads variable length sequences.The default padding value is 0.0\"\"\"\n",
        "  return sequence.pad_sequences(sequences_data,maxlen=maxlen)"
      ],
      "execution_count": 0,
      "outputs": []
    },
    {
      "cell_type": "code",
      "metadata": {
        "id": "FY21RBRidfNg",
        "colab_type": "code",
        "outputId": "2df2fff2-3c34-4808-813a-cb77f6552c99",
        "colab": {
          "base_uri": "https://localhost:8080/",
          "height": 35
        }
      },
      "source": [
        "#Let's check how many maximum words are there in the dataset\n",
        "np.quantile(df[\"word_count\"],0.95)"
      ],
      "execution_count": 26,
      "outputs": [
        {
          "output_type": "execute_result",
          "data": {
            "text/plain": [
              "13.0"
            ]
          },
          "metadata": {
            "tags": []
          },
          "execution_count": 26
        }
      ]
    },
    {
      "cell_type": "code",
      "metadata": {
        "id": "Sz4k6JESfiFd",
        "colab_type": "code",
        "colab": {}
      },
      "source": [
        "maxlen = 13\n",
        "sequences_train, vocab_len = tokenization(X_train)\n",
        "sequences_train_matrix = padding(sequences_train,maxlen)"
      ],
      "execution_count": 0,
      "outputs": []
    },
    {
      "cell_type": "code",
      "metadata": {
        "id": "-NtQHAfzMZza",
        "colab_type": "code",
        "colab": {
          "base_uri": "https://localhost:8080/",
          "height": 35
        },
        "outputId": "962a17b1-acaa-4ada-8d62-b24ca0cfb1bb"
      },
      "source": [
        "sequences_train_matrix.shape"
      ],
      "execution_count": 58,
      "outputs": [
        {
          "output_type": "execute_result",
          "data": {
            "text/plain": [
              "(1044574, 13)"
            ]
          },
          "metadata": {
            "tags": []
          },
          "execution_count": 58
        }
      ]
    },
    {
      "cell_type": "code",
      "metadata": {
        "id": "_vLuEMHLMKYQ",
        "colab_type": "code",
        "colab": {}
      },
      "source": [
        "sequences_test, vocab_len = tokenization(X_test)\n",
        "sequences_test_matrix = padding(sequences_test,maxlen)"
      ],
      "execution_count": 0,
      "outputs": []
    },
    {
      "cell_type": "code",
      "metadata": {
        "id": "OaNibcVTMjDJ",
        "colab_type": "code",
        "colab": {
          "base_uri": "https://localhost:8080/",
          "height": 35
        },
        "outputId": "37145ade-a30b-4cf7-c175-04577948c548"
      },
      "source": [
        "sequences_test_matrix.shape"
      ],
      "execution_count": 62,
      "outputs": [
        {
          "output_type": "execute_result",
          "data": {
            "text/plain": [
              "(261144, 13)"
            ]
          },
          "metadata": {
            "tags": []
          },
          "execution_count": 62
        }
      ]
    },
    {
      "cell_type": "markdown",
      "metadata": {
        "id": "zYPmJVyTQsFA",
        "colab_type": "text"
      },
      "source": [
        "#Building LSTM Architecture"
      ]
    },
    {
      "cell_type": "code",
      "metadata": {
        "id": "bUsensfRicLB",
        "colab_type": "code",
        "colab": {}
      },
      "source": [
        "def build_model(input,LSTM_units,dropout,classes,finalAct):\n",
        "    \"\"\"This function Builds the LSTM Model using keras Functional Api\"\"\"\n",
        "    inputs = Input(name='inputs',shape=[input])\n",
        "    layer = Embedding(vocab_len+1,500,input_length=input,mask_zero=True)(inputs)\n",
        "    layer = LSTM(LSTM_units)(layer)\n",
        "    layer = Dense(units=64,name='FC1')(layer)\n",
        "    layer = Activation('relu')(layer)\n",
        "    layer = Dropout(dropout)(layer)\n",
        "    layer = Dense(classes,name='Output_layer')(layer)\n",
        "    layer = Activation(finalAct)(layer)\n",
        "    model = Model(inputs=inputs,outputs=layer)\n",
        "    return model"
      ],
      "execution_count": 0,
      "outputs": []
    },
    {
      "cell_type": "code",
      "metadata": {
        "id": "zqUI7Upei8Fb",
        "colab_type": "code",
        "outputId": "bf2c848a-974e-4f39-928d-67ee8c2f1dc2",
        "colab": {
          "base_uri": "https://localhost:8080/",
          "height": 433
        }
      },
      "source": [
        "model = build_model(input=13,LSTM_units=64,dropout=0.5,classes=1,finalAct='sigmoid')\n",
        "model.summary()"
      ],
      "execution_count": 64,
      "outputs": [
        {
          "output_type": "stream",
          "text": [
            "Model: \"model_6\"\n",
            "_________________________________________________________________\n",
            "Layer (type)                 Output Shape              Param #   \n",
            "=================================================================\n",
            "inputs (InputLayer)          [(None, 13)]              0         \n",
            "_________________________________________________________________\n",
            "embedding_6 (Embedding)      (None, 13, 500)           40364000  \n",
            "_________________________________________________________________\n",
            "lstm_6 (LSTM)                (None, 64)                144640    \n",
            "_________________________________________________________________\n",
            "FC1 (Dense)                  (None, 64)                4160      \n",
            "_________________________________________________________________\n",
            "activation_12 (Activation)   (None, 64)                0         \n",
            "_________________________________________________________________\n",
            "dropout_6 (Dropout)          (None, 64)                0         \n",
            "_________________________________________________________________\n",
            "Output_layer (Dense)         (None, 1)                 65        \n",
            "_________________________________________________________________\n",
            "activation_13 (Activation)   (None, 1)                 0         \n",
            "=================================================================\n",
            "Total params: 40,512,865\n",
            "Trainable params: 40,512,865\n",
            "Non-trainable params: 0\n",
            "_________________________________________________________________\n"
          ],
          "name": "stdout"
        }
      ]
    },
    {
      "cell_type": "code",
      "metadata": {
        "id": "2wa7G3CVjBFk",
        "colab_type": "code",
        "colab": {}
      },
      "source": [
        "model.compile(loss='binary_crossentropy',optimizer='adam',metrics=['accuracy'])"
      ],
      "execution_count": 0,
      "outputs": []
    },
    {
      "cell_type": "code",
      "metadata": {
        "id": "VtlW57HL91rx",
        "colab_type": "code",
        "colab": {}
      },
      "source": [
        "#Custom data generator\n",
        "def generator(data, classes, batch_size):\n",
        "    \"\"\"\n",
        "    data : data\n",
        "    classes : y_train\n",
        "    batch_size: integer value\n",
        "    \"\"\"\n",
        "    index = 0\n",
        "    while True:\n",
        "        for index,sample in enumerate(data):\n",
        "          if index == data.shape[0]:\n",
        "            index = 0\n",
        "          yield data[index*batch_size:(index+1)*batch_size], classes[index*batch_size:(index+1)*batch_size]"
      ],
      "execution_count": 0,
      "outputs": []
    },
    {
      "cell_type": "code",
      "metadata": {
        "id": "XGqaXilgYPmn",
        "colab_type": "code",
        "outputId": "124aa059-614a-4d92-fcee-d60b38130788",
        "colab": {
          "base_uri": "https://localhost:8080/",
          "height": 35
        }
      },
      "source": [
        "#Defining class weights as the dataset is heavily imbalance\n",
        "from sklearn.utils import class_weight\n",
        "class_weight = class_weight.compute_class_weight('balanced',np.unique(y_train),y_train)\n",
        "class_weight_dict = dict(enumerate(class_weight))\n",
        "class_weight_dict"
      ],
      "execution_count": 67,
      "outputs": [
        {
          "output_type": "execute_result",
          "data": {
            "text/plain": [
              "{0: 0.532981269165812, 1: 8.08006002568109}"
            ]
          },
          "metadata": {
            "tags": []
          },
          "execution_count": 67
        }
      ]
    },
    {
      "cell_type": "markdown",
      "metadata": {
        "id": "1qN7AJr5PiyF",
        "colab_type": "text"
      },
      "source": [
        "# Training"
      ]
    },
    {
      "cell_type": "code",
      "metadata": {
        "id": "KmBd3Y8CRHru",
        "colab_type": "code",
        "colab": {}
      },
      "source": [
        "history = model.fit_generator(generator(sequences_train_matrix, y_train, 128),\n",
        "                        steps_per_epoch=int(sequences_train_matrix.shape[0]/128) + 1,\n",
        "                        epochs=5,\n",
        "                        class_weight=class_weight_dict,\n",
        "                        validation_data=generator(sequences_test_matrix, y_test, 128),\n",
        "                        validation_steps=int(sequences_test_matrix.shape[0]/128) + 1)"
      ],
      "execution_count": 0,
      "outputs": []
    }
  ]
}