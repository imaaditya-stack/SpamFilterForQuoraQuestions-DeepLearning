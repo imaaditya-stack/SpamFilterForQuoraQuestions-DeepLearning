{
  "nbformat": 4,
  "nbformat_minor": 0,
  "metadata": {
    "colab": {
      "name": "SpamFilterForQuora.ipynb",
      "provenance": [],
      "collapsed_sections": [],
      "authorship_tag": "ABX9TyPBqJwqjh1b/k36uKxdkA4h",
      "include_colab_link": true
    },
    "kernelspec": {
      "name": "python3",
      "display_name": "Python 3"
    },
    "accelerator": "GPU"
  },
  "cells": [
    {
      "cell_type": "markdown",
      "metadata": {
        "id": "view-in-github",
        "colab_type": "text"
      },
      "source": [
        "<a href=\"https://colab.research.google.com/github/imaaditya-stack/SpamFilterForQuoraQuestions-DeepLearning/blob/master/SpamFilterForQuora.ipynb\" target=\"_parent\"><img src=\"https://colab.research.google.com/assets/colab-badge.svg\" alt=\"Open In Colab\"/></a>"
      ]
    },
    {
      "cell_type": "code",
      "metadata": {
        "id": "InKDc5PyOJc2",
        "colab_type": "code",
        "outputId": "341ea39a-6742-4d6f-cb19-27457e382782",
        "colab": {
          "base_uri": "https://localhost:8080/",
          "height": 124
        }
      },
      "source": [
        "from google.colab import drive\n",
        "drive.mount('/content/drive')"
      ],
      "execution_count": 1,
      "outputs": [
        {
          "output_type": "stream",
          "text": [
            "Go to this URL in a browser: https://accounts.google.com/o/oauth2/auth?client_id=947318989803-6bn6qk8qdgf4n4g3pfee6491hc0brc4i.apps.googleusercontent.com&redirect_uri=urn%3aietf%3awg%3aoauth%3a2.0%3aoob&response_type=code&scope=email%20https%3a%2f%2fwww.googleapis.com%2fauth%2fdocs.test%20https%3a%2f%2fwww.googleapis.com%2fauth%2fdrive%20https%3a%2f%2fwww.googleapis.com%2fauth%2fdrive.photos.readonly%20https%3a%2f%2fwww.googleapis.com%2fauth%2fpeopleapi.readonly\n",
            "\n",
            "Enter your authorization code:\n",
            "··········\n",
            "Mounted at /content/drive\n"
          ],
          "name": "stdout"
        }
      ]
    },
    {
      "cell_type": "code",
      "metadata": {
        "id": "e8bLsdBMOsSb",
        "colab_type": "code",
        "colab": {}
      },
      "source": [
        "import pandas as pd\n",
        "data = pd.read_csv(\"/content/drive/My Drive/spamfilterdata.csv\")"
      ],
      "execution_count": 0,
      "outputs": []
    },
    {
      "cell_type": "code",
      "metadata": {
        "id": "EQUH2hzYPYt-",
        "colab_type": "code",
        "outputId": "1275e55c-233d-4904-c342-cd7771542cff",
        "colab": {
          "base_uri": "https://localhost:8080/",
          "height": 202
        }
      },
      "source": [
        "data.head()"
      ],
      "execution_count": 3,
      "outputs": [
        {
          "output_type": "execute_result",
          "data": {
            "text/html": [
              "<div>\n",
              "<style scoped>\n",
              "    .dataframe tbody tr th:only-of-type {\n",
              "        vertical-align: middle;\n",
              "    }\n",
              "\n",
              "    .dataframe tbody tr th {\n",
              "        vertical-align: top;\n",
              "    }\n",
              "\n",
              "    .dataframe thead th {\n",
              "        text-align: right;\n",
              "    }\n",
              "</style>\n",
              "<table border=\"1\" class=\"dataframe\">\n",
              "  <thead>\n",
              "    <tr style=\"text-align: right;\">\n",
              "      <th></th>\n",
              "      <th>qid</th>\n",
              "      <th>question_text</th>\n",
              "      <th>target</th>\n",
              "    </tr>\n",
              "  </thead>\n",
              "  <tbody>\n",
              "    <tr>\n",
              "      <th>0</th>\n",
              "      <td>00002165364db923c7e6</td>\n",
              "      <td>How did Quebec nationalists see their province...</td>\n",
              "      <td>0</td>\n",
              "    </tr>\n",
              "    <tr>\n",
              "      <th>1</th>\n",
              "      <td>000032939017120e6e44</td>\n",
              "      <td>Do you have an adopted dog, how would you enco...</td>\n",
              "      <td>0</td>\n",
              "    </tr>\n",
              "    <tr>\n",
              "      <th>2</th>\n",
              "      <td>0000412ca6e4628ce2cf</td>\n",
              "      <td>Why does velocity affect time? Does velocity a...</td>\n",
              "      <td>0</td>\n",
              "    </tr>\n",
              "    <tr>\n",
              "      <th>3</th>\n",
              "      <td>000042bf85aa498cd78e</td>\n",
              "      <td>How did Otto von Guericke used the Magdeburg h...</td>\n",
              "      <td>0</td>\n",
              "    </tr>\n",
              "    <tr>\n",
              "      <th>4</th>\n",
              "      <td>0000455dfa3e01eae3af</td>\n",
              "      <td>Can I convert montra helicon D to a mountain b...</td>\n",
              "      <td>0</td>\n",
              "    </tr>\n",
              "  </tbody>\n",
              "</table>\n",
              "</div>"
            ],
            "text/plain": [
              "                    qid  ... target\n",
              "0  00002165364db923c7e6  ...      0\n",
              "1  000032939017120e6e44  ...      0\n",
              "2  0000412ca6e4628ce2cf  ...      0\n",
              "3  000042bf85aa498cd78e  ...      0\n",
              "4  0000455dfa3e01eae3af  ...      0\n",
              "\n",
              "[5 rows x 3 columns]"
            ]
          },
          "metadata": {
            "tags": []
          },
          "execution_count": 3
        }
      ]
    },
    {
      "cell_type": "code",
      "metadata": {
        "id": "xYM27gxnPacX",
        "colab_type": "code",
        "outputId": "13e3133a-e8db-4741-913f-197541d72ee8",
        "colab": {
          "base_uri": "https://localhost:8080/",
          "height": 35
        }
      },
      "source": [
        "data.shape"
      ],
      "execution_count": 4,
      "outputs": [
        {
          "output_type": "execute_result",
          "data": {
            "text/plain": [
              "(1306122, 3)"
            ]
          },
          "metadata": {
            "tags": []
          },
          "execution_count": 4
        }
      ]
    },
    {
      "cell_type": "code",
      "metadata": {
        "id": "x3hMIit-Pj6i",
        "colab_type": "code",
        "outputId": "273af1bc-24bc-42a1-ee96-59a3d5111fd8",
        "colab": {
          "base_uri": "https://localhost:8080/",
          "height": 69
        }
      },
      "source": [
        "data.target.value_counts()"
      ],
      "execution_count": 5,
      "outputs": [
        {
          "output_type": "execute_result",
          "data": {
            "text/plain": [
              "0    1225312\n",
              "1      80810\n",
              "Name: target, dtype: int64"
            ]
          },
          "metadata": {
            "tags": []
          },
          "execution_count": 5
        }
      ]
    },
    {
      "cell_type": "code",
      "metadata": {
        "id": "WuEbJ7yEPxAI",
        "colab_type": "code",
        "colab": {}
      },
      "source": [
        "data.drop(columns=\"qid\", inplace=True)"
      ],
      "execution_count": 0,
      "outputs": []
    },
    {
      "cell_type": "code",
      "metadata": {
        "id": "ia6GE3y3QXtX",
        "colab_type": "code",
        "outputId": "d522b0a0-ba70-442e-b19d-d8af41af9674",
        "colab": {
          "base_uri": "https://localhost:8080/",
          "height": 202
        }
      },
      "source": [
        "data.head()"
      ],
      "execution_count": 7,
      "outputs": [
        {
          "output_type": "execute_result",
          "data": {
            "text/html": [
              "<div>\n",
              "<style scoped>\n",
              "    .dataframe tbody tr th:only-of-type {\n",
              "        vertical-align: middle;\n",
              "    }\n",
              "\n",
              "    .dataframe tbody tr th {\n",
              "        vertical-align: top;\n",
              "    }\n",
              "\n",
              "    .dataframe thead th {\n",
              "        text-align: right;\n",
              "    }\n",
              "</style>\n",
              "<table border=\"1\" class=\"dataframe\">\n",
              "  <thead>\n",
              "    <tr style=\"text-align: right;\">\n",
              "      <th></th>\n",
              "      <th>question_text</th>\n",
              "      <th>target</th>\n",
              "    </tr>\n",
              "  </thead>\n",
              "  <tbody>\n",
              "    <tr>\n",
              "      <th>0</th>\n",
              "      <td>How did Quebec nationalists see their province...</td>\n",
              "      <td>0</td>\n",
              "    </tr>\n",
              "    <tr>\n",
              "      <th>1</th>\n",
              "      <td>Do you have an adopted dog, how would you enco...</td>\n",
              "      <td>0</td>\n",
              "    </tr>\n",
              "    <tr>\n",
              "      <th>2</th>\n",
              "      <td>Why does velocity affect time? Does velocity a...</td>\n",
              "      <td>0</td>\n",
              "    </tr>\n",
              "    <tr>\n",
              "      <th>3</th>\n",
              "      <td>How did Otto von Guericke used the Magdeburg h...</td>\n",
              "      <td>0</td>\n",
              "    </tr>\n",
              "    <tr>\n",
              "      <th>4</th>\n",
              "      <td>Can I convert montra helicon D to a mountain b...</td>\n",
              "      <td>0</td>\n",
              "    </tr>\n",
              "  </tbody>\n",
              "</table>\n",
              "</div>"
            ],
            "text/plain": [
              "                                       question_text  target\n",
              "0  How did Quebec nationalists see their province...       0\n",
              "1  Do you have an adopted dog, how would you enco...       0\n",
              "2  Why does velocity affect time? Does velocity a...       0\n",
              "3  How did Otto von Guericke used the Magdeburg h...       0\n",
              "4  Can I convert montra helicon D to a mountain b...       0"
            ]
          },
          "metadata": {
            "tags": []
          },
          "execution_count": 7
        }
      ]
    },
    {
      "cell_type": "code",
      "metadata": {
        "id": "y3PD7WyjQb47",
        "colab_type": "code",
        "colab": {}
      },
      "source": [
        "data[\"question_text_length\"] = data.question_text.apply(lambda x: len(x.split(\" \")))"
      ],
      "execution_count": 0,
      "outputs": []
    },
    {
      "cell_type": "code",
      "metadata": {
        "id": "Y77dHgegRMvQ",
        "colab_type": "code",
        "outputId": "1b011a6f-7488-42c4-e060-95ab23c3be3a",
        "colab": {
          "base_uri": "https://localhost:8080/",
          "height": 202
        }
      },
      "source": [
        "data.head()"
      ],
      "execution_count": 9,
      "outputs": [
        {
          "output_type": "execute_result",
          "data": {
            "text/html": [
              "<div>\n",
              "<style scoped>\n",
              "    .dataframe tbody tr th:only-of-type {\n",
              "        vertical-align: middle;\n",
              "    }\n",
              "\n",
              "    .dataframe tbody tr th {\n",
              "        vertical-align: top;\n",
              "    }\n",
              "\n",
              "    .dataframe thead th {\n",
              "        text-align: right;\n",
              "    }\n",
              "</style>\n",
              "<table border=\"1\" class=\"dataframe\">\n",
              "  <thead>\n",
              "    <tr style=\"text-align: right;\">\n",
              "      <th></th>\n",
              "      <th>question_text</th>\n",
              "      <th>target</th>\n",
              "      <th>question_text_length</th>\n",
              "    </tr>\n",
              "  </thead>\n",
              "  <tbody>\n",
              "    <tr>\n",
              "      <th>0</th>\n",
              "      <td>How did Quebec nationalists see their province...</td>\n",
              "      <td>0</td>\n",
              "      <td>13</td>\n",
              "    </tr>\n",
              "    <tr>\n",
              "      <th>1</th>\n",
              "      <td>Do you have an adopted dog, how would you enco...</td>\n",
              "      <td>0</td>\n",
              "      <td>16</td>\n",
              "    </tr>\n",
              "    <tr>\n",
              "      <th>2</th>\n",
              "      <td>Why does velocity affect time? Does velocity a...</td>\n",
              "      <td>0</td>\n",
              "      <td>10</td>\n",
              "    </tr>\n",
              "    <tr>\n",
              "      <th>3</th>\n",
              "      <td>How did Otto von Guericke used the Magdeburg h...</td>\n",
              "      <td>0</td>\n",
              "      <td>9</td>\n",
              "    </tr>\n",
              "    <tr>\n",
              "      <th>4</th>\n",
              "      <td>Can I convert montra helicon D to a mountain b...</td>\n",
              "      <td>0</td>\n",
              "      <td>15</td>\n",
              "    </tr>\n",
              "  </tbody>\n",
              "</table>\n",
              "</div>"
            ],
            "text/plain": [
              "                                       question_text  ...  question_text_length\n",
              "0  How did Quebec nationalists see their province...  ...                    13\n",
              "1  Do you have an adopted dog, how would you enco...  ...                    16\n",
              "2  Why does velocity affect time? Does velocity a...  ...                    10\n",
              "3  How did Otto von Guericke used the Magdeburg h...  ...                     9\n",
              "4  Can I convert montra helicon D to a mountain b...  ...                    15\n",
              "\n",
              "[5 rows x 3 columns]"
            ]
          },
          "metadata": {
            "tags": []
          },
          "execution_count": 9
        }
      ]
    },
    {
      "cell_type": "code",
      "metadata": {
        "id": "GYYUbse4RRnC",
        "colab_type": "code",
        "outputId": "380ef88d-706b-4d4f-a79b-afe2f0f8b010",
        "colab": {
          "base_uri": "https://localhost:8080/",
          "height": 35
        }
      },
      "source": [
        "max(data.question_text_length), min(data.question_text_length)"
      ],
      "execution_count": 10,
      "outputs": [
        {
          "output_type": "execute_result",
          "data": {
            "text/plain": [
              "(122, 1)"
            ]
          },
          "metadata": {
            "tags": []
          },
          "execution_count": 10
        }
      ]
    },
    {
      "cell_type": "code",
      "metadata": {
        "id": "8H_QfLsYyOWR",
        "colab_type": "code",
        "outputId": "a868667e-2890-4d3c-f284-4bc2d468b1b7",
        "colab": {
          "base_uri": "https://localhost:8080/",
          "height": 54
        }
      },
      "source": [
        "print(list(data[\"question_text\"][data[\"question_text_length\"]==122].values))"
      ],
      "execution_count": 0,
      "outputs": [
        {
          "output_type": "stream",
          "text": [
            "['In \"Star Trek 2013\" why did they :\\n\\n*Spoilers*\\n*Spoilers*\\n*Spoilers*\\n*Spoilers*\\n\\n1)Make warping look quite a bit like an hyperspace jump\\n2)what in the world were those bright particles as soon as they jumped.\\n3)Why in the world did they make it possible for two entities to react in warp space in separate jumps.\\n4)Why did Spock get emotions for this movie.\\n5)What was the point of hiding the \"Enterprise\" underwater.\\n6)When they were intercepted by the dark ship, how come they reached Earth when they were far away from her.(I don\\'t seem to remember the scene where they warp to earth).\\n7)How did the ship enter earth\\'s atmosphere when it wasnt even in orbit.\\n8)When Scotty opened the door of the black ship , how come pike and khan didn\\'t slow down?']\n"
          ],
          "name": "stdout"
        }
      ]
    },
    {
      "cell_type": "code",
      "metadata": {
        "id": "QjlceAKPtunB",
        "colab_type": "code",
        "outputId": "cd5dcd1b-ef49-48e3-9543-af8834ceff3b",
        "colab": {
          "base_uri": "https://localhost:8080/",
          "height": 55
        }
      },
      "source": [
        "sampleText = list(data[\"question_text\"][data[\"question_text_length\"]==122].values)[0]\n",
        "sampleText"
      ],
      "execution_count": 14,
      "outputs": [
        {
          "output_type": "execute_result",
          "data": {
            "text/plain": [
              "'In \"Star Trek 2013\" why did they :\\n\\n*Spoilers*\\n*Spoilers*\\n*Spoilers*\\n*Spoilers*\\n\\n1)Make warping look quite a bit like an hyperspace jump\\n2)what in the world were those bright particles as soon as they jumped.\\n3)Why in the world did they make it possible for two entities to react in warp space in separate jumps.\\n4)Why did Spock get emotions for this movie.\\n5)What was the point of hiding the \"Enterprise\" underwater.\\n6)When they were intercepted by the dark ship, how come they reached Earth when they were far away from her.(I don\\'t seem to remember the scene where they warp to earth).\\n7)How did the ship enter earth\\'s atmosphere when it wasnt even in orbit.\\n8)When Scotty opened the door of the black ship , how come pike and khan didn\\'t slow down?'"
            ]
          },
          "metadata": {
            "tags": []
          },
          "execution_count": 14
        }
      ]
    },
    {
      "cell_type": "code",
      "metadata": {
        "id": "AOPz3-z7wGT3",
        "colab_type": "code",
        "outputId": "cf10165d-ccd8-4b76-bdbf-30952cc52c22",
        "colab": {
          "base_uri": "https://localhost:8080/",
          "height": 52
        }
      },
      "source": [
        "import nltk\n",
        "nltk.download('punkt')\n",
        "from nltk.corpus import stopwords\n",
        "from nltk.tokenize import word_tokenize"
      ],
      "execution_count": 12,
      "outputs": [
        {
          "output_type": "stream",
          "text": [
            "[nltk_data] Downloading package punkt to /root/nltk_data...\n",
            "[nltk_data]   Unzipping tokenizers/punkt.zip.\n"
          ],
          "name": "stdout"
        }
      ]
    },
    {
      "cell_type": "code",
      "metadata": {
        "id": "I0aqB27EwYzn",
        "colab_type": "code",
        "outputId": "39709edf-fe4d-40d3-a655-b48853db8351",
        "colab": {
          "base_uri": "https://localhost:8080/",
          "height": 1000
        }
      },
      "source": [
        "word_tokenize(sampleText.lower())"
      ],
      "execution_count": 15,
      "outputs": [
        {
          "output_type": "execute_result",
          "data": {
            "text/plain": [
              "['in',\n",
              " '``',\n",
              " 'star',\n",
              " 'trek',\n",
              " '2013',\n",
              " \"''\",\n",
              " 'why',\n",
              " 'did',\n",
              " 'they',\n",
              " ':',\n",
              " '*spoilers*',\n",
              " '*spoilers*',\n",
              " '*spoilers*',\n",
              " '*spoilers*',\n",
              " '1',\n",
              " ')',\n",
              " 'make',\n",
              " 'warping',\n",
              " 'look',\n",
              " 'quite',\n",
              " 'a',\n",
              " 'bit',\n",
              " 'like',\n",
              " 'an',\n",
              " 'hyperspace',\n",
              " 'jump',\n",
              " '2',\n",
              " ')',\n",
              " 'what',\n",
              " 'in',\n",
              " 'the',\n",
              " 'world',\n",
              " 'were',\n",
              " 'those',\n",
              " 'bright',\n",
              " 'particles',\n",
              " 'as',\n",
              " 'soon',\n",
              " 'as',\n",
              " 'they',\n",
              " 'jumped',\n",
              " '.',\n",
              " '3',\n",
              " ')',\n",
              " 'why',\n",
              " 'in',\n",
              " 'the',\n",
              " 'world',\n",
              " 'did',\n",
              " 'they',\n",
              " 'make',\n",
              " 'it',\n",
              " 'possible',\n",
              " 'for',\n",
              " 'two',\n",
              " 'entities',\n",
              " 'to',\n",
              " 'react',\n",
              " 'in',\n",
              " 'warp',\n",
              " 'space',\n",
              " 'in',\n",
              " 'separate',\n",
              " 'jumps',\n",
              " '.',\n",
              " '4',\n",
              " ')',\n",
              " 'why',\n",
              " 'did',\n",
              " 'spock',\n",
              " 'get',\n",
              " 'emotions',\n",
              " 'for',\n",
              " 'this',\n",
              " 'movie',\n",
              " '.',\n",
              " '5',\n",
              " ')',\n",
              " 'what',\n",
              " 'was',\n",
              " 'the',\n",
              " 'point',\n",
              " 'of',\n",
              " 'hiding',\n",
              " 'the',\n",
              " '``',\n",
              " 'enterprise',\n",
              " \"''\",\n",
              " 'underwater',\n",
              " '.',\n",
              " '6',\n",
              " ')',\n",
              " 'when',\n",
              " 'they',\n",
              " 'were',\n",
              " 'intercepted',\n",
              " 'by',\n",
              " 'the',\n",
              " 'dark',\n",
              " 'ship',\n",
              " ',',\n",
              " 'how',\n",
              " 'come',\n",
              " 'they',\n",
              " 'reached',\n",
              " 'earth',\n",
              " 'when',\n",
              " 'they',\n",
              " 'were',\n",
              " 'far',\n",
              " 'away',\n",
              " 'from',\n",
              " 'her',\n",
              " '.',\n",
              " '(',\n",
              " 'i',\n",
              " 'do',\n",
              " \"n't\",\n",
              " 'seem',\n",
              " 'to',\n",
              " 'remember',\n",
              " 'the',\n",
              " 'scene',\n",
              " 'where',\n",
              " 'they',\n",
              " 'warp',\n",
              " 'to',\n",
              " 'earth',\n",
              " ')',\n",
              " '.',\n",
              " '7',\n",
              " ')',\n",
              " 'how',\n",
              " 'did',\n",
              " 'the',\n",
              " 'ship',\n",
              " 'enter',\n",
              " 'earth',\n",
              " \"'s\",\n",
              " 'atmosphere',\n",
              " 'when',\n",
              " 'it',\n",
              " 'wasnt',\n",
              " 'even',\n",
              " 'in',\n",
              " 'orbit',\n",
              " '.',\n",
              " '8',\n",
              " ')',\n",
              " 'when',\n",
              " 'scotty',\n",
              " 'opened',\n",
              " 'the',\n",
              " 'door',\n",
              " 'of',\n",
              " 'the',\n",
              " 'black',\n",
              " 'ship',\n",
              " ',',\n",
              " 'how',\n",
              " 'come',\n",
              " 'pike',\n",
              " 'and',\n",
              " 'khan',\n",
              " 'did',\n",
              " \"n't\",\n",
              " 'slow',\n",
              " 'down',\n",
              " '?']"
            ]
          },
          "metadata": {
            "tags": []
          },
          "execution_count": 15
        }
      ]
    },
    {
      "cell_type": "markdown",
      "metadata": {
        "id": "WZWURCib0f0H",
        "colab_type": "text"
      },
      "source": [
        "Numbers removing"
      ]
    },
    {
      "cell_type": "code",
      "metadata": {
        "id": "Xp6wnKl5xGfm",
        "colab_type": "code",
        "outputId": "b52d9ae2-8322-4a91-e9ce-2bd0be26eeca",
        "colab": {
          "base_uri": "https://localhost:8080/",
          "height": 55
        }
      },
      "source": [
        "import re\n",
        "result = re.sub(r'\\d+','', sampleText)\n",
        "result"
      ],
      "execution_count": 16,
      "outputs": [
        {
          "output_type": "execute_result",
          "data": {
            "text/plain": [
              "'In \"Star Trek \" why did they :\\n\\n*Spoilers*\\n*Spoilers*\\n*Spoilers*\\n*Spoilers*\\n\\n)Make warping look quite a bit like an hyperspace jump\\n)what in the world were those bright particles as soon as they jumped.\\n)Why in the world did they make it possible for two entities to react in warp space in separate jumps.\\n)Why did Spock get emotions for this movie.\\n)What was the point of hiding the \"Enterprise\" underwater.\\n)When they were intercepted by the dark ship, how come they reached Earth when they were far away from her.(I don\\'t seem to remember the scene where they warp to earth).\\n)How did the ship enter earth\\'s atmosphere when it wasnt even in orbit.\\n)When Scotty opened the door of the black ship , how come pike and khan didn\\'t slow down?'"
            ]
          },
          "metadata": {
            "tags": []
          },
          "execution_count": 16
        }
      ]
    },
    {
      "cell_type": "code",
      "metadata": {
        "id": "bGIbezkn1vUt",
        "colab_type": "code",
        "outputId": "0e658e72-ea7e-40b5-cd21-5060085d6771",
        "colab": {
          "base_uri": "https://localhost:8080/",
          "height": 50
        }
      },
      "source": [
        "nltk.download('stopwords')\n",
        "stop_words = set(stopwords.words(\"english\"))"
      ],
      "execution_count": 0,
      "outputs": [
        {
          "output_type": "stream",
          "text": [
            "[nltk_data] Downloading package stopwords to /root/nltk_data...\n",
            "[nltk_data]   Package stopwords is already up-to-date!\n"
          ],
          "name": "stdout"
        }
      ]
    },
    {
      "cell_type": "code",
      "metadata": {
        "id": "-Rmb-wY8x-an",
        "colab_type": "code",
        "outputId": "08c5a8f3-4a91-4778-c202-a9ceb0d567e4",
        "colab": {
          "base_uri": "https://localhost:8080/",
          "height": 203
        }
      },
      "source": [
        "tokens = word_tokenize(sampleText)\n",
        "result = [i for i in tokens if not i in stop_words]\n",
        "print(result)"
      ],
      "execution_count": 11,
      "outputs": [
        {
          "output_type": "error",
          "ename": "NameError",
          "evalue": "ignored",
          "traceback": [
            "\u001b[0;31m---------------------------------------------------------------------------\u001b[0m",
            "\u001b[0;31mNameError\u001b[0m                                 Traceback (most recent call last)",
            "\u001b[0;32m<ipython-input-11-f8bc9d035a91>\u001b[0m in \u001b[0;36m<module>\u001b[0;34m()\u001b[0m\n\u001b[0;32m----> 1\u001b[0;31m \u001b[0mtokens\u001b[0m \u001b[0;34m=\u001b[0m \u001b[0mword_tokenize\u001b[0m\u001b[0;34m(\u001b[0m\u001b[0msampleText\u001b[0m\u001b[0;34m)\u001b[0m\u001b[0;34m\u001b[0m\u001b[0;34m\u001b[0m\u001b[0m\n\u001b[0m\u001b[1;32m      2\u001b[0m \u001b[0mresult\u001b[0m \u001b[0;34m=\u001b[0m \u001b[0;34m[\u001b[0m\u001b[0mi\u001b[0m \u001b[0;32mfor\u001b[0m \u001b[0mi\u001b[0m \u001b[0;32min\u001b[0m \u001b[0mtokens\u001b[0m \u001b[0;32mif\u001b[0m \u001b[0;32mnot\u001b[0m \u001b[0mi\u001b[0m \u001b[0;32min\u001b[0m \u001b[0mstop_words\u001b[0m\u001b[0;34m]\u001b[0m\u001b[0;34m\u001b[0m\u001b[0;34m\u001b[0m\u001b[0m\n\u001b[1;32m      3\u001b[0m \u001b[0mprint\u001b[0m\u001b[0;34m(\u001b[0m\u001b[0mresult\u001b[0m\u001b[0;34m)\u001b[0m\u001b[0;34m\u001b[0m\u001b[0;34m\u001b[0m\u001b[0m\n",
            "\u001b[0;31mNameError\u001b[0m: name 'word_tokenize' is not defined"
          ]
        }
      ]
    },
    {
      "cell_type": "code",
      "metadata": {
        "id": "UA7Jd7Le0w5K",
        "colab_type": "code",
        "outputId": "9537a4dc-2184-45e9-f47d-319f2824e0c0",
        "colab": {
          "base_uri": "https://localhost:8080/",
          "height": 1000
        }
      },
      "source": [
        "from nltk.stem import WordNetLemmatizer\n",
        "from nltk.tokenize import word_tokenize\n",
        "lemmatizer=WordNetLemmatizer()\n",
        "input_str=word_tokenize(sampleText)\n",
        "for word in input_str:\n",
        "    print(lemmatizer.lemmatize(word))"
      ],
      "execution_count": 0,
      "outputs": [
        {
          "output_type": "stream",
          "text": [
            "In\n",
            "``\n",
            "Star\n",
            "Trek\n",
            "2013\n",
            "''\n",
            "why\n",
            "did\n",
            "they\n",
            ":\n",
            "*Spoilers*\n",
            "*Spoilers*\n",
            "*Spoilers*\n",
            "*Spoilers*\n",
            "1\n",
            ")\n",
            "Make\n",
            "warping\n",
            "look\n",
            "quite\n",
            "a\n",
            "bit\n",
            "like\n",
            "an\n",
            "hyperspace\n",
            "jump\n",
            "2\n",
            ")\n",
            "what\n",
            "in\n",
            "the\n",
            "world\n",
            "were\n",
            "those\n",
            "bright\n",
            "particle\n",
            "a\n",
            "soon\n",
            "a\n",
            "they\n",
            "jumped\n",
            ".\n",
            "3\n",
            ")\n",
            "Why\n",
            "in\n",
            "the\n",
            "world\n",
            "did\n",
            "they\n",
            "make\n",
            "it\n",
            "possible\n",
            "for\n",
            "two\n",
            "entity\n",
            "to\n",
            "react\n",
            "in\n",
            "warp\n",
            "space\n",
            "in\n",
            "separate\n",
            "jump\n",
            ".\n",
            "4\n",
            ")\n",
            "Why\n",
            "did\n",
            "Spock\n",
            "get\n",
            "emotion\n",
            "for\n",
            "this\n",
            "movie\n",
            ".\n",
            "5\n",
            ")\n",
            "What\n",
            "wa\n",
            "the\n",
            "point\n",
            "of\n",
            "hiding\n",
            "the\n",
            "``\n",
            "Enterprise\n",
            "''\n",
            "underwater\n",
            ".\n",
            "6\n",
            ")\n",
            "When\n",
            "they\n",
            "were\n",
            "intercepted\n",
            "by\n",
            "the\n",
            "dark\n",
            "ship\n",
            ",\n",
            "how\n",
            "come\n",
            "they\n",
            "reached\n",
            "Earth\n",
            "when\n",
            "they\n",
            "were\n",
            "far\n",
            "away\n",
            "from\n",
            "her\n",
            ".\n",
            "(\n",
            "I\n",
            "do\n",
            "n't\n",
            "seem\n",
            "to\n",
            "remember\n",
            "the\n",
            "scene\n",
            "where\n",
            "they\n",
            "warp\n",
            "to\n",
            "earth\n",
            ")\n",
            ".\n",
            "7\n",
            ")\n",
            "How\n",
            "did\n",
            "the\n",
            "ship\n",
            "enter\n",
            "earth\n",
            "'s\n",
            "atmosphere\n",
            "when\n",
            "it\n",
            "wasnt\n",
            "even\n",
            "in\n",
            "orbit\n",
            ".\n",
            "8\n",
            ")\n",
            "When\n",
            "Scotty\n",
            "opened\n",
            "the\n",
            "door\n",
            "of\n",
            "the\n",
            "black\n",
            "ship\n",
            ",\n",
            "how\n",
            "come\n",
            "pike\n",
            "and\n",
            "khan\n",
            "did\n",
            "n't\n",
            "slow\n",
            "down\n",
            "?\n"
          ],
          "name": "stdout"
        }
      ]
    },
    {
      "cell_type": "code",
      "metadata": {
        "id": "6NjHNF0q5K-H",
        "colab_type": "code",
        "outputId": "5a00a933-1542-492a-b3b6-bd50d3040dca",
        "colab": {
          "base_uri": "https://localhost:8080/",
          "height": 54
        }
      },
      "source": [
        "sampleText"
      ],
      "execution_count": 0,
      "outputs": [
        {
          "output_type": "execute_result",
          "data": {
            "text/plain": [
              "'In \"Star Trek 2013\" why did they :\\n\\n*Spoilers*\\n*Spoilers*\\n*Spoilers*\\n*Spoilers*\\n\\n1)Make warping look quite a bit like an hyperspace jump\\n2)what in the world were those bright particles as soon as they jumped.\\n3)Why in the world did they make it possible for two entities to react in warp space in separate jumps.\\n4)Why did Spock get emotions for this movie.\\n5)What was the point of hiding the \"Enterprise\" underwater.\\n6)When they were intercepted by the dark ship, how come they reached Earth when they were far away from her.(I don\\'t seem to remember the scene where they warp to earth).\\n7)How did the ship enter earth\\'s atmosphere when it wasnt even in orbit.\\n8)When Scotty opened the door of the black ship , how come pike and khan didn\\'t slow down?'"
            ]
          },
          "metadata": {
            "tags": []
          },
          "execution_count": 92
        }
      ]
    },
    {
      "cell_type": "code",
      "metadata": {
        "id": "ovoJdXs74ZrS",
        "colab_type": "code",
        "outputId": "821f8b88-97da-4927-f75d-38acc7945f9b",
        "colab": {
          "base_uri": "https://localhost:8080/",
          "height": 54
        }
      },
      "source": [
        "sentence = re.sub(r'[)\\n*\"?.,]',r'',sampleText)\n",
        "sentence"
      ],
      "execution_count": 0,
      "outputs": [
        {
          "output_type": "execute_result",
          "data": {
            "text/plain": [
              "\"In Star Trek 2013 why did they :SpoilersSpoilersSpoilersSpoilers1Make warping look quite a bit like an hyperspace jump2what in the world were those bright particles as soon as they jumped3Why in the world did they make it possible for two entities to react in warp space in separate jumps4Why did Spock get emotions for this movie5What was the point of hiding the Enterprise underwater6When they were intercepted by the dark ship how come they reached Earth when they were far away from her(I don't seem to remember the scene where they warp to earth7How did the ship enter earth's atmosphere when it wasnt even in orbit8When Scotty opened the door of the black ship  how come pike and khan didn't slow down\""
            ]
          },
          "metadata": {
            "tags": []
          },
          "execution_count": 106
        }
      ]
    },
    {
      "cell_type": "code",
      "metadata": {
        "id": "_Qa0nYSO2TaQ",
        "colab_type": "code",
        "colab": {}
      },
      "source": [
        "temp =[]\n",
        "snow = nltk.stem.SnowballStemmer('english')\n",
        "for sentence in final_X:\n",
        "    sentence = sentence.lower()                 # Converting to lowercase\n",
        "    cleanr = re.compile('<.*?>')\n",
        "    sentence = re.sub(cleanr, ' ', sentence)        #Removing HTML tags\n",
        "    sentence = re.sub(r'[?|!|\\'|\"|#]',r'',sentence)\n",
        "    sentence = re.sub(r'[.|,|)|(|\\|/]',r' ',sentence)        #Removing Punctuations\n",
        "    \n",
        "    words = [snow.stem(word) for word in sentence.split() if word not in stopwords.words('english')]   # Stemming and removing stopwords\n",
        "    temp.append(words)\n",
        "    \n",
        "final_X = temp   "
      ],
      "execution_count": 0,
      "outputs": []
    },
    {
      "cell_type": "code",
      "metadata": {
        "id": "aqU2LNeBPs3Y",
        "colab_type": "code",
        "colab": {}
      },
      "source": [
        ""
      ],
      "execution_count": 0,
      "outputs": []
    }
  ]
}