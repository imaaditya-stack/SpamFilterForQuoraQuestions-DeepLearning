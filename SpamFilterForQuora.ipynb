{
  "nbformat": 4,
  "nbformat_minor": 0,
  "metadata": {
    "colab": {
      "name": "SpamFilterForQuora.ipynb",
      "provenance": [],
      "collapsed_sections": [],
      "authorship_tag": "ABX9TyObm8FYC8/yN/ypE2eAtNL7",
      "include_colab_link": true
    },
    "kernelspec": {
      "name": "python3",
      "display_name": "Python 3"
    },
    "accelerator": "GPU"
  },
  "cells": [
    {
      "cell_type": "markdown",
      "metadata": {
        "id": "view-in-github",
        "colab_type": "text"
      },
      "source": [
        "<a href=\"https://colab.research.google.com/github/imaaditya-stack/SpamFilterForQuoraQuestions-DeepLearning/blob/master/SpamFilterForQuora.ipynb\" target=\"_parent\"><img src=\"https://colab.research.google.com/assets/colab-badge.svg\" alt=\"Open In Colab\"/></a>"
      ]
    },
    {
      "cell_type": "code",
      "metadata": {
        "id": "InKDc5PyOJc2",
        "colab_type": "code",
        "outputId": "d6c98911-3e5e-4bc8-fb4e-d0b7e5811c7a",
        "colab": {
          "base_uri": "https://localhost:8080/",
          "height": 121
        }
      },
      "source": [
        "from google.colab import drive\n",
        "drive.mount('/content/drive')"
      ],
      "execution_count": 1,
      "outputs": [
        {
          "output_type": "stream",
          "text": [
            "Go to this URL in a browser: https://accounts.google.com/o/oauth2/auth?client_id=947318989803-6bn6qk8qdgf4n4g3pfee6491hc0brc4i.apps.googleusercontent.com&redirect_uri=urn%3aietf%3awg%3aoauth%3a2.0%3aoob&response_type=code&scope=email%20https%3a%2f%2fwww.googleapis.com%2fauth%2fdocs.test%20https%3a%2f%2fwww.googleapis.com%2fauth%2fdrive%20https%3a%2f%2fwww.googleapis.com%2fauth%2fdrive.photos.readonly%20https%3a%2f%2fwww.googleapis.com%2fauth%2fpeopleapi.readonly\n",
            "\n",
            "Enter your authorization code:\n",
            "··········\n",
            "Mounted at /content/drive\n"
          ],
          "name": "stdout"
        }
      ]
    },
    {
      "cell_type": "code",
      "metadata": {
        "id": "e8bLsdBMOsSb",
        "colab_type": "code",
        "colab": {
          "base_uri": "https://localhost:8080/",
          "height": 118
        },
        "outputId": "b2dc02a7-b779-4c11-a384-c74be167a9e9"
      },
      "source": [
        "import pandas as pd\n",
        "import nltk\n",
        "import re\n",
        "nltk.download('punkt')\n",
        "nltk.download('stopwords')\n",
        "nltk.download('wordnet')\n",
        "from nltk.corpus import stopwords\n",
        "from nltk.tokenize import word_tokenize\n",
        "from nltk.stem import WordNetLemmatizer\n",
        "from nltk.corpus import wordnet\n",
        "import inflect\n",
        "import unicodedata"
      ],
      "execution_count": 55,
      "outputs": [
        {
          "output_type": "stream",
          "text": [
            "[nltk_data] Downloading package punkt to /root/nltk_data...\n",
            "[nltk_data]   Package punkt is already up-to-date!\n",
            "[nltk_data] Downloading package stopwords to /root/nltk_data...\n",
            "[nltk_data]   Package stopwords is already up-to-date!\n",
            "[nltk_data] Downloading package wordnet to /root/nltk_data...\n",
            "[nltk_data]   Package wordnet is already up-to-date!\n"
          ],
          "name": "stdout"
        }
      ]
    },
    {
      "cell_type": "code",
      "metadata": {
        "id": "GjF7td4exew4",
        "colab_type": "code",
        "colab": {}
      },
      "source": [
        "df = pd.read_csv(\"/content/drive/My Drive/spamfilterdata.csv\")"
      ],
      "execution_count": 0,
      "outputs": []
    },
    {
      "cell_type": "code",
      "metadata": {
        "id": "EQUH2hzYPYt-",
        "colab_type": "code",
        "outputId": "11bcaf92-46da-4089-99a9-6ebe5822fe90",
        "colab": {
          "base_uri": "https://localhost:8080/",
          "height": 195
        }
      },
      "source": [
        "df.head()"
      ],
      "execution_count": 6,
      "outputs": [
        {
          "output_type": "execute_result",
          "data": {
            "text/html": [
              "<div>\n",
              "<style scoped>\n",
              "    .dataframe tbody tr th:only-of-type {\n",
              "        vertical-align: middle;\n",
              "    }\n",
              "\n",
              "    .dataframe tbody tr th {\n",
              "        vertical-align: top;\n",
              "    }\n",
              "\n",
              "    .dataframe thead th {\n",
              "        text-align: right;\n",
              "    }\n",
              "</style>\n",
              "<table border=\"1\" class=\"dataframe\">\n",
              "  <thead>\n",
              "    <tr style=\"text-align: right;\">\n",
              "      <th></th>\n",
              "      <th>qid</th>\n",
              "      <th>question_text</th>\n",
              "      <th>target</th>\n",
              "    </tr>\n",
              "  </thead>\n",
              "  <tbody>\n",
              "    <tr>\n",
              "      <th>0</th>\n",
              "      <td>00002165364db923c7e6</td>\n",
              "      <td>How did Quebec nationalists see their province...</td>\n",
              "      <td>0</td>\n",
              "    </tr>\n",
              "    <tr>\n",
              "      <th>1</th>\n",
              "      <td>000032939017120e6e44</td>\n",
              "      <td>Do you have an adopted dog, how would you enco...</td>\n",
              "      <td>0</td>\n",
              "    </tr>\n",
              "    <tr>\n",
              "      <th>2</th>\n",
              "      <td>0000412ca6e4628ce2cf</td>\n",
              "      <td>Why does velocity affect time? Does velocity a...</td>\n",
              "      <td>0</td>\n",
              "    </tr>\n",
              "    <tr>\n",
              "      <th>3</th>\n",
              "      <td>000042bf85aa498cd78e</td>\n",
              "      <td>How did Otto von Guericke used the Magdeburg h...</td>\n",
              "      <td>0</td>\n",
              "    </tr>\n",
              "    <tr>\n",
              "      <th>4</th>\n",
              "      <td>0000455dfa3e01eae3af</td>\n",
              "      <td>Can I convert montra helicon D to a mountain b...</td>\n",
              "      <td>0</td>\n",
              "    </tr>\n",
              "  </tbody>\n",
              "</table>\n",
              "</div>"
            ],
            "text/plain": [
              "                    qid  ... target\n",
              "0  00002165364db923c7e6  ...      0\n",
              "1  000032939017120e6e44  ...      0\n",
              "2  0000412ca6e4628ce2cf  ...      0\n",
              "3  000042bf85aa498cd78e  ...      0\n",
              "4  0000455dfa3e01eae3af  ...      0\n",
              "\n",
              "[5 rows x 3 columns]"
            ]
          },
          "metadata": {
            "tags": []
          },
          "execution_count": 6
        }
      ]
    },
    {
      "cell_type": "code",
      "metadata": {
        "id": "xYM27gxnPacX",
        "colab_type": "code",
        "outputId": "79a2683d-6932-46a1-c39e-8a6988361413",
        "colab": {
          "base_uri": "https://localhost:8080/",
          "height": 34
        }
      },
      "source": [
        "df.shape"
      ],
      "execution_count": 7,
      "outputs": [
        {
          "output_type": "execute_result",
          "data": {
            "text/plain": [
              "(1306122, 3)"
            ]
          },
          "metadata": {
            "tags": []
          },
          "execution_count": 7
        }
      ]
    },
    {
      "cell_type": "code",
      "metadata": {
        "id": "x3hMIit-Pj6i",
        "colab_type": "code",
        "outputId": "56f47feb-8779-40ef-8ce0-ed7fc93f9570",
        "colab": {
          "base_uri": "https://localhost:8080/",
          "height": 67
        }
      },
      "source": [
        "df.target.value_counts()"
      ],
      "execution_count": 8,
      "outputs": [
        {
          "output_type": "execute_result",
          "data": {
            "text/plain": [
              "0    1225312\n",
              "1      80810\n",
              "Name: target, dtype: int64"
            ]
          },
          "metadata": {
            "tags": []
          },
          "execution_count": 8
        }
      ]
    },
    {
      "cell_type": "code",
      "metadata": {
        "id": "WuEbJ7yEPxAI",
        "colab_type": "code",
        "colab": {}
      },
      "source": [
        "df.drop(columns=\"qid\", inplace=True)"
      ],
      "execution_count": 0,
      "outputs": []
    },
    {
      "cell_type": "code",
      "metadata": {
        "id": "ia6GE3y3QXtX",
        "colab_type": "code",
        "outputId": "199c01cc-127e-4396-d777-8154e9e76124",
        "colab": {
          "base_uri": "https://localhost:8080/",
          "height": 195
        }
      },
      "source": [
        "df.head()"
      ],
      "execution_count": 10,
      "outputs": [
        {
          "output_type": "execute_result",
          "data": {
            "text/html": [
              "<div>\n",
              "<style scoped>\n",
              "    .dataframe tbody tr th:only-of-type {\n",
              "        vertical-align: middle;\n",
              "    }\n",
              "\n",
              "    .dataframe tbody tr th {\n",
              "        vertical-align: top;\n",
              "    }\n",
              "\n",
              "    .dataframe thead th {\n",
              "        text-align: right;\n",
              "    }\n",
              "</style>\n",
              "<table border=\"1\" class=\"dataframe\">\n",
              "  <thead>\n",
              "    <tr style=\"text-align: right;\">\n",
              "      <th></th>\n",
              "      <th>question_text</th>\n",
              "      <th>target</th>\n",
              "    </tr>\n",
              "  </thead>\n",
              "  <tbody>\n",
              "    <tr>\n",
              "      <th>0</th>\n",
              "      <td>How did Quebec nationalists see their province...</td>\n",
              "      <td>0</td>\n",
              "    </tr>\n",
              "    <tr>\n",
              "      <th>1</th>\n",
              "      <td>Do you have an adopted dog, how would you enco...</td>\n",
              "      <td>0</td>\n",
              "    </tr>\n",
              "    <tr>\n",
              "      <th>2</th>\n",
              "      <td>Why does velocity affect time? Does velocity a...</td>\n",
              "      <td>0</td>\n",
              "    </tr>\n",
              "    <tr>\n",
              "      <th>3</th>\n",
              "      <td>How did Otto von Guericke used the Magdeburg h...</td>\n",
              "      <td>0</td>\n",
              "    </tr>\n",
              "    <tr>\n",
              "      <th>4</th>\n",
              "      <td>Can I convert montra helicon D to a mountain b...</td>\n",
              "      <td>0</td>\n",
              "    </tr>\n",
              "  </tbody>\n",
              "</table>\n",
              "</div>"
            ],
            "text/plain": [
              "                                       question_text  target\n",
              "0  How did Quebec nationalists see their province...       0\n",
              "1  Do you have an adopted dog, how would you enco...       0\n",
              "2  Why does velocity affect time? Does velocity a...       0\n",
              "3  How did Otto von Guericke used the Magdeburg h...       0\n",
              "4  Can I convert montra helicon D to a mountain b...       0"
            ]
          },
          "metadata": {
            "tags": []
          },
          "execution_count": 10
        }
      ]
    },
    {
      "cell_type": "markdown",
      "metadata": {
        "id": "9Jjrf6ucwnJz",
        "colab_type": "text"
      },
      "source": [
        "Number of Words"
      ]
    },
    {
      "cell_type": "code",
      "metadata": {
        "id": "SxuUxGXwwmce",
        "colab_type": "code",
        "colab": {
          "base_uri": "https://localhost:8080/",
          "height": 195
        },
        "outputId": "d6d3d5b1-ae24-4ac0-b61b-9c26d0139c84"
      },
      "source": [
        "df[\"word_count\"] = df[\"question_text\"].apply(lambda x: len(str(x).split(\" \")))\n",
        "df[[\"question_text\",\"word_count\"]].head()"
      ],
      "execution_count": 13,
      "outputs": [
        {
          "output_type": "execute_result",
          "data": {
            "text/html": [
              "<div>\n",
              "<style scoped>\n",
              "    .dataframe tbody tr th:only-of-type {\n",
              "        vertical-align: middle;\n",
              "    }\n",
              "\n",
              "    .dataframe tbody tr th {\n",
              "        vertical-align: top;\n",
              "    }\n",
              "\n",
              "    .dataframe thead th {\n",
              "        text-align: right;\n",
              "    }\n",
              "</style>\n",
              "<table border=\"1\" class=\"dataframe\">\n",
              "  <thead>\n",
              "    <tr style=\"text-align: right;\">\n",
              "      <th></th>\n",
              "      <th>question_text</th>\n",
              "      <th>word_count</th>\n",
              "    </tr>\n",
              "  </thead>\n",
              "  <tbody>\n",
              "    <tr>\n",
              "      <th>0</th>\n",
              "      <td>How did Quebec nationalists see their province...</td>\n",
              "      <td>13</td>\n",
              "    </tr>\n",
              "    <tr>\n",
              "      <th>1</th>\n",
              "      <td>Do you have an adopted dog, how would you enco...</td>\n",
              "      <td>16</td>\n",
              "    </tr>\n",
              "    <tr>\n",
              "      <th>2</th>\n",
              "      <td>Why does velocity affect time? Does velocity a...</td>\n",
              "      <td>10</td>\n",
              "    </tr>\n",
              "    <tr>\n",
              "      <th>3</th>\n",
              "      <td>How did Otto von Guericke used the Magdeburg h...</td>\n",
              "      <td>9</td>\n",
              "    </tr>\n",
              "    <tr>\n",
              "      <th>4</th>\n",
              "      <td>Can I convert montra helicon D to a mountain b...</td>\n",
              "      <td>15</td>\n",
              "    </tr>\n",
              "  </tbody>\n",
              "</table>\n",
              "</div>"
            ],
            "text/plain": [
              "                                       question_text  word_count\n",
              "0  How did Quebec nationalists see their province...          13\n",
              "1  Do you have an adopted dog, how would you enco...          16\n",
              "2  Why does velocity affect time? Does velocity a...          10\n",
              "3  How did Otto von Guericke used the Magdeburg h...           9\n",
              "4  Can I convert montra helicon D to a mountain b...          15"
            ]
          },
          "metadata": {
            "tags": []
          },
          "execution_count": 13
        }
      ]
    },
    {
      "cell_type": "code",
      "metadata": {
        "id": "GYYUbse4RRnC",
        "colab_type": "code",
        "outputId": "d350ebe1-c44c-4e10-cd40-98391de79522",
        "colab": {
          "base_uri": "https://localhost:8080/",
          "height": 34
        }
      },
      "source": [
        "max(df[\"word_count\"]), min(df[\"word_count\"])"
      ],
      "execution_count": 14,
      "outputs": [
        {
          "output_type": "execute_result",
          "data": {
            "text/plain": [
              "(122, 1)"
            ]
          },
          "metadata": {
            "tags": []
          },
          "execution_count": 14
        }
      ]
    },
    {
      "cell_type": "markdown",
      "metadata": {
        "id": "H-l4V6fxyO7b",
        "colab_type": "text"
      },
      "source": [
        "Number of characters"
      ]
    },
    {
      "cell_type": "code",
      "metadata": {
        "id": "YtMySoH1yLGz",
        "colab_type": "code",
        "colab": {
          "base_uri": "https://localhost:8080/",
          "height": 195
        },
        "outputId": "f06adc95-5868-4577-a538-2031ad9967ed"
      },
      "source": [
        "df['char_count'] = df['question_text'].str.len() ## this also includes spaces\n",
        "df[['question_text','char_count']].head()"
      ],
      "execution_count": 17,
      "outputs": [
        {
          "output_type": "execute_result",
          "data": {
            "text/html": [
              "<div>\n",
              "<style scoped>\n",
              "    .dataframe tbody tr th:only-of-type {\n",
              "        vertical-align: middle;\n",
              "    }\n",
              "\n",
              "    .dataframe tbody tr th {\n",
              "        vertical-align: top;\n",
              "    }\n",
              "\n",
              "    .dataframe thead th {\n",
              "        text-align: right;\n",
              "    }\n",
              "</style>\n",
              "<table border=\"1\" class=\"dataframe\">\n",
              "  <thead>\n",
              "    <tr style=\"text-align: right;\">\n",
              "      <th></th>\n",
              "      <th>question_text</th>\n",
              "      <th>char_count</th>\n",
              "    </tr>\n",
              "  </thead>\n",
              "  <tbody>\n",
              "    <tr>\n",
              "      <th>0</th>\n",
              "      <td>How did Quebec nationalists see their province...</td>\n",
              "      <td>72</td>\n",
              "    </tr>\n",
              "    <tr>\n",
              "      <th>1</th>\n",
              "      <td>Do you have an adopted dog, how would you enco...</td>\n",
              "      <td>81</td>\n",
              "    </tr>\n",
              "    <tr>\n",
              "      <th>2</th>\n",
              "      <td>Why does velocity affect time? Does velocity a...</td>\n",
              "      <td>67</td>\n",
              "    </tr>\n",
              "    <tr>\n",
              "      <th>3</th>\n",
              "      <td>How did Otto von Guericke used the Magdeburg h...</td>\n",
              "      <td>57</td>\n",
              "    </tr>\n",
              "    <tr>\n",
              "      <th>4</th>\n",
              "      <td>Can I convert montra helicon D to a mountain b...</td>\n",
              "      <td>77</td>\n",
              "    </tr>\n",
              "  </tbody>\n",
              "</table>\n",
              "</div>"
            ],
            "text/plain": [
              "                                       question_text  char_count\n",
              "0  How did Quebec nationalists see their province...          72\n",
              "1  Do you have an adopted dog, how would you enco...          81\n",
              "2  Why does velocity affect time? Does velocity a...          67\n",
              "3  How did Otto von Guericke used the Magdeburg h...          57\n",
              "4  Can I convert montra helicon D to a mountain b...          77"
            ]
          },
          "metadata": {
            "tags": []
          },
          "execution_count": 17
        }
      ]
    },
    {
      "cell_type": "code",
      "metadata": {
        "id": "-Cn9xW1YyLBg",
        "colab_type": "code",
        "colab": {
          "base_uri": "https://localhost:8080/",
          "height": 34
        },
        "outputId": "3afaa28f-60c7-497f-b806-ee2493f85c3b"
      },
      "source": [
        "max(df[\"char_count\"]), min(df[\"char_count\"])"
      ],
      "execution_count": 18,
      "outputs": [
        {
          "output_type": "execute_result",
          "data": {
            "text/plain": [
              "(1017, 1)"
            ]
          },
          "metadata": {
            "tags": []
          },
          "execution_count": 18
        }
      ]
    },
    {
      "cell_type": "markdown",
      "metadata": {
        "id": "TEODKc7sypT3",
        "colab_type": "text"
      },
      "source": [
        "Number of special characters"
      ]
    },
    {
      "cell_type": "code",
      "metadata": {
        "id": "RFbGZrfAyK3F",
        "colab_type": "code",
        "colab": {
          "base_uri": "https://localhost:8080/",
          "height": 195
        },
        "outputId": "e13831fc-ab0b-430a-eff1-dc680c8a6144"
      },
      "source": [
        "df['hastags'] = df['question_text'].apply(lambda x: len([x for x in x.split() if x.startswith('#')]))\n",
        "df[['question_text','hastags']].head()"
      ],
      "execution_count": 19,
      "outputs": [
        {
          "output_type": "execute_result",
          "data": {
            "text/html": [
              "<div>\n",
              "<style scoped>\n",
              "    .dataframe tbody tr th:only-of-type {\n",
              "        vertical-align: middle;\n",
              "    }\n",
              "\n",
              "    .dataframe tbody tr th {\n",
              "        vertical-align: top;\n",
              "    }\n",
              "\n",
              "    .dataframe thead th {\n",
              "        text-align: right;\n",
              "    }\n",
              "</style>\n",
              "<table border=\"1\" class=\"dataframe\">\n",
              "  <thead>\n",
              "    <tr style=\"text-align: right;\">\n",
              "      <th></th>\n",
              "      <th>question_text</th>\n",
              "      <th>hastags</th>\n",
              "    </tr>\n",
              "  </thead>\n",
              "  <tbody>\n",
              "    <tr>\n",
              "      <th>0</th>\n",
              "      <td>How did Quebec nationalists see their province...</td>\n",
              "      <td>0</td>\n",
              "    </tr>\n",
              "    <tr>\n",
              "      <th>1</th>\n",
              "      <td>Do you have an adopted dog, how would you enco...</td>\n",
              "      <td>0</td>\n",
              "    </tr>\n",
              "    <tr>\n",
              "      <th>2</th>\n",
              "      <td>Why does velocity affect time? Does velocity a...</td>\n",
              "      <td>0</td>\n",
              "    </tr>\n",
              "    <tr>\n",
              "      <th>3</th>\n",
              "      <td>How did Otto von Guericke used the Magdeburg h...</td>\n",
              "      <td>0</td>\n",
              "    </tr>\n",
              "    <tr>\n",
              "      <th>4</th>\n",
              "      <td>Can I convert montra helicon D to a mountain b...</td>\n",
              "      <td>0</td>\n",
              "    </tr>\n",
              "  </tbody>\n",
              "</table>\n",
              "</div>"
            ],
            "text/plain": [
              "                                       question_text  hastags\n",
              "0  How did Quebec nationalists see their province...        0\n",
              "1  Do you have an adopted dog, how would you enco...        0\n",
              "2  Why does velocity affect time? Does velocity a...        0\n",
              "3  How did Otto von Guericke used the Magdeburg h...        0\n",
              "4  Can I convert montra helicon D to a mountain b...        0"
            ]
          },
          "metadata": {
            "tags": []
          },
          "execution_count": 19
        }
      ]
    },
    {
      "cell_type": "code",
      "metadata": {
        "id": "O852T73Ny025",
        "colab_type": "code",
        "colab": {
          "base_uri": "https://localhost:8080/",
          "height": 34
        },
        "outputId": "30172a67-a3e1-43ac-f0dc-5b7c27bf8141"
      },
      "source": [
        "max(df[\"hastags\"]), min(df[\"hastags\"])"
      ],
      "execution_count": 21,
      "outputs": [
        {
          "output_type": "execute_result",
          "data": {
            "text/plain": [
              "(10, 0)"
            ]
          },
          "metadata": {
            "tags": []
          },
          "execution_count": 21
        }
      ]
    },
    {
      "cell_type": "markdown",
      "metadata": {
        "id": "ft4WKBL6zP1b",
        "colab_type": "text"
      },
      "source": [
        "Number of numerics"
      ]
    },
    {
      "cell_type": "code",
      "metadata": {
        "id": "NGJ29f0dyKrS",
        "colab_type": "code",
        "colab": {
          "base_uri": "https://localhost:8080/",
          "height": 195
        },
        "outputId": "9356db73-b95a-4add-e45a-f99b0d0ffedd"
      },
      "source": [
        "df['numerics'] = df['question_text'].apply(lambda x: len([x for x in x.split() if x.isdigit()]))\n",
        "df[['question_text','numerics']].head()"
      ],
      "execution_count": 22,
      "outputs": [
        {
          "output_type": "execute_result",
          "data": {
            "text/html": [
              "<div>\n",
              "<style scoped>\n",
              "    .dataframe tbody tr th:only-of-type {\n",
              "        vertical-align: middle;\n",
              "    }\n",
              "\n",
              "    .dataframe tbody tr th {\n",
              "        vertical-align: top;\n",
              "    }\n",
              "\n",
              "    .dataframe thead th {\n",
              "        text-align: right;\n",
              "    }\n",
              "</style>\n",
              "<table border=\"1\" class=\"dataframe\">\n",
              "  <thead>\n",
              "    <tr style=\"text-align: right;\">\n",
              "      <th></th>\n",
              "      <th>question_text</th>\n",
              "      <th>numerics</th>\n",
              "    </tr>\n",
              "  </thead>\n",
              "  <tbody>\n",
              "    <tr>\n",
              "      <th>0</th>\n",
              "      <td>How did Quebec nationalists see their province...</td>\n",
              "      <td>0</td>\n",
              "    </tr>\n",
              "    <tr>\n",
              "      <th>1</th>\n",
              "      <td>Do you have an adopted dog, how would you enco...</td>\n",
              "      <td>0</td>\n",
              "    </tr>\n",
              "    <tr>\n",
              "      <th>2</th>\n",
              "      <td>Why does velocity affect time? Does velocity a...</td>\n",
              "      <td>0</td>\n",
              "    </tr>\n",
              "    <tr>\n",
              "      <th>3</th>\n",
              "      <td>How did Otto von Guericke used the Magdeburg h...</td>\n",
              "      <td>0</td>\n",
              "    </tr>\n",
              "    <tr>\n",
              "      <th>4</th>\n",
              "      <td>Can I convert montra helicon D to a mountain b...</td>\n",
              "      <td>0</td>\n",
              "    </tr>\n",
              "  </tbody>\n",
              "</table>\n",
              "</div>"
            ],
            "text/plain": [
              "                                       question_text  numerics\n",
              "0  How did Quebec nationalists see their province...         0\n",
              "1  Do you have an adopted dog, how would you enco...         0\n",
              "2  Why does velocity affect time? Does velocity a...         0\n",
              "3  How did Otto von Guericke used the Magdeburg h...         0\n",
              "4  Can I convert montra helicon D to a mountain b...         0"
            ]
          },
          "metadata": {
            "tags": []
          },
          "execution_count": 22
        }
      ]
    },
    {
      "cell_type": "code",
      "metadata": {
        "id": "u_RQqs30zZ5u",
        "colab_type": "code",
        "colab": {
          "base_uri": "https://localhost:8080/",
          "height": 34
        },
        "outputId": "abbd449f-505a-4a3c-bd38-46bfe4e7c3b2"
      },
      "source": [
        "max(df[\"numerics\"]), min(df[\"numerics\"])"
      ],
      "execution_count": 23,
      "outputs": [
        {
          "output_type": "execute_result",
          "data": {
            "text/plain": [
              "(15, 0)"
            ]
          },
          "metadata": {
            "tags": []
          },
          "execution_count": 23
        }
      ]
    },
    {
      "cell_type": "code",
      "metadata": {
        "id": "0lLgVQpGzZ2f",
        "colab_type": "code",
        "colab": {
          "base_uri": "https://localhost:8080/",
          "height": 202
        },
        "outputId": "de1fb228-d9e4-48b9-cf37-2f383b12ed26"
      },
      "source": [
        "freq_common = pd.Series(' '.join(df['question_text']).split()).value_counts()[:10]\n",
        "freq_common"
      ],
      "execution_count": 66,
      "outputs": [
        {
          "output_type": "execute_result",
          "data": {
            "text/plain": [
              "the     653948\n",
              "What    417802\n",
              "to      403183\n",
              "a       402682\n",
              "in      363131\n",
              "is      331647\n",
              "of      330825\n",
              "I       306261\n",
              "How     261930\n",
              "and     251973\n",
              "dtype: int64"
            ]
          },
          "metadata": {
            "tags": []
          },
          "execution_count": 66
        }
      ]
    },
    {
      "cell_type": "code",
      "metadata": {
        "id": "_W09_VmUzZ0o",
        "colab_type": "code",
        "colab": {
          "base_uri": "https://localhost:8080/",
          "height": 202
        },
        "outputId": "3fe836b9-ba34-4d4c-ac2d-b583fb3cc869"
      },
      "source": [
        "freq_rare = pd.Series(' '.join(df['question_text']).split()).value_counts()[-10:]\n",
        "freq_rare"
      ],
      "execution_count": 67,
      "outputs": [
        {
          "output_type": "execute_result",
          "data": {
            "text/plain": [
              "phonepe         1\n",
              "Capoeria        1\n",
              "BASF?           1\n",
              "Mumi&Bubi       1\n",
              "Ashu            1\n",
              "avation?        1\n",
              "lunch/dinner    1\n",
              "(drunk)         1\n",
              "movies/films    1\n",
              "IDW             1\n",
              "dtype: int64"
            ]
          },
          "metadata": {
            "tags": []
          },
          "execution_count": 67
        }
      ]
    },
    {
      "cell_type": "code",
      "metadata": {
        "id": "R7MpJSXszZyh",
        "colab_type": "code",
        "colab": {}
      },
      "source": [
        "words = [\"The\", \"life\", \"is\", \"good\", \".\", 6, \"phonepe\"]"
      ],
      "execution_count": 0,
      "outputs": []
    },
    {
      "cell_type": "code",
      "metadata": {
        "id": "FHo0etX_zZwc",
        "colab_type": "code",
        "colab": {}
      },
      "source": [
        "freq_rare = list(freq_rare.index)\n",
        "new_words=[]\n",
        "for word in words:\n",
        "  if word not in freq:\n",
        "    new_words.append(word)"
      ],
      "execution_count": 0,
      "outputs": []
    },
    {
      "cell_type": "code",
      "metadata": {
        "id": "rrC4rMvs7LDU",
        "colab_type": "code",
        "colab": {
          "base_uri": "https://localhost:8080/",
          "height": 34
        },
        "outputId": "14ca028a-91c1-494b-cdc4-e44334b89450"
      },
      "source": [
        "print(freq_rare)"
      ],
      "execution_count": 77,
      "outputs": [
        {
          "output_type": "stream",
          "text": [
            "['phonepe', 'Capoeria', 'BASF?', 'Mumi&Bubi', 'Ashu', 'avation?', 'lunch/dinner', '(drunk)', 'movies/films', 'IDW']\n"
          ],
          "name": "stdout"
        }
      ]
    },
    {
      "cell_type": "code",
      "metadata": {
        "id": "lZfQwWWozZuh",
        "colab_type": "code",
        "colab": {
          "base_uri": "https://localhost:8080/",
          "height": 34
        },
        "outputId": "86450f3d-9314-407b-8f98-3b45dc2db8c3"
      },
      "source": [
        "new_words"
      ],
      "execution_count": 69,
      "outputs": [
        {
          "output_type": "execute_result",
          "data": {
            "text/plain": [
              "['The', 'life', 'is', 'good', '.', 6]"
            ]
          },
          "metadata": {
            "tags": []
          },
          "execution_count": 69
        }
      ]
    },
    {
      "cell_type": "code",
      "metadata": {
        "id": "swSyPeUf7oZ0",
        "colab_type": "code",
        "colab": {}
      },
      "source": [
        "class TextProcessor():\n",
        "\n",
        "  @staticmethod  \n",
        "\n",
        "  def tokenize(self,words):\n",
        "      \"\"\"Divides the text into a sequence of words\"\"\"\n",
        "      return(word_tokenize(words))\n",
        "    \n",
        "  def to_lowercase(self,words):\n",
        "      \"\"\"Convert all characters to lowercase from list of tokenized words\"\"\"\n",
        "      new_words = []\n",
        "      for word in words:\n",
        "          new_word = word.lower()\n",
        "          new_words.append(new_word)\n",
        "      return new_words\n",
        "    \n",
        "  def remove_rare_words(self,words):\n",
        "      \"\"\"Remove rare words\"\"\"\n",
        "      rare_words = ['phonepe','Capoeria','BASF?','Mumi&Bubi','Ashu',\n",
        "                    'avation?','lunch/dinner','(drunk)','movies/films','IDW']\n",
        "      new_words=[]\n",
        "      for word in words:\n",
        "        if word not in rare_words:\n",
        "          new_words.append(word)\n",
        "      return new_words\n",
        "\n",
        "  def remove_punctuation(self,words):\n",
        "      \"\"\"Remove punctuation from list of tokenized words\"\"\"\n",
        "      new_words = []\n",
        "      for word in words:\n",
        "          new_word = re.sub(r'[^\\w\\s]', '', word)\n",
        "          if new_word != '':\n",
        "              new_words.append(new_word)\n",
        "      return new_words\n",
        "    \n",
        "  def remove_digits(self,words):\n",
        "      \"\"\"Remove Digits from the list of tokenized words\"\"\"\n",
        "      pattern = '[0-9]'\n",
        "      new_words = []\n",
        "      for word in words:\n",
        "          new_word = re.sub(pattern, '', word)\n",
        "          if new_word != '':\n",
        "              new_words.append(new_word) \n",
        "      return new_words\n",
        "\n",
        "  def remove_stopwords(self,words):\n",
        "      \"\"\"Remove stop words from list of tokenized words\"\"\"\n",
        "      new_words = []\n",
        "      for word in words:\n",
        "          if word not in stopwords.words('english'):\n",
        "              new_words.append(word)\n",
        "      return new_words\n",
        "\n",
        "  def get_wordnet_pos(treebank_tag):\n",
        "\n",
        "      if treebank_tag.startswith('J'):\n",
        "          return wordnet.ADJ\n",
        "      elif treebank_tag.startswith('V'):\n",
        "          return wordnet.VERB\n",
        "      elif treebank_tag.startswith('N'):\n",
        "          return wordnet.NOUN\n",
        "      elif treebank_tag.startswith('R'):\n",
        "          return wordnet.ADV\n",
        "      else:\n",
        "          return ''\n",
        "\n",
        "  def lemmatize_verbs(self,words):\n",
        "      \"\"\"Lemmatize verbs in list of tokenized words\"\"\"\n",
        "      lemmatizer = WordNetLemmatizer()\n",
        "      lemmas = []\n",
        "      for word in words:\n",
        "          lemma = lemmatizer.lemmatize(word, wordnet.VERB)\n",
        "          lemmas.append(lemma)\n",
        "      return lemmas\n",
        "\n",
        "  def remove_duplicates(self,words):\n",
        "      \"\"\"Remove duplicate words from list of tokenized words\"\"\" \n",
        "      final_words = [] \n",
        "      for word in words: \n",
        "          if word not in final_words: \n",
        "              final_words.append(word) \n",
        "      return final_words \n",
        "\n",
        "  def normalize(self,words):\n",
        "      \"\"\"Apply all the above functions to a given input string\"\"\"\n",
        "      words = tokenize(words)\n",
        "      words = to_lowercase(words)\n",
        "      words = remove_rare_words(words)\n",
        "      words = remove_punctuation(words)\n",
        "      words = remove_digits(words)\n",
        "      words = remove_stopwords(words)\n",
        "      words = lemmatize_verbs(words)\n",
        "      words = remove_duplicates(words)\n",
        "      return words"
      ],
      "execution_count": 0,
      "outputs": []
    },
    {
      "cell_type": "markdown",
      "metadata": {
        "id": "j4I8hXFsGDNj",
        "colab_type": "text"
      },
      "source": [
        "Studying is #hard. Sometimes you won’t be #prepared. But taking #prescription #drugs is a #dangerous way & get an #edge. Some people have gotten hooked on these #medicines & even died. Just #budget the time to hunker down and hit those #books.?"
      ]
    },
    {
      "cell_type": "code",
      "metadata": {
        "id": "hC1AIArZQ9Ci",
        "colab_type": "code",
        "colab": {
          "base_uri": "https://localhost:8080/",
          "height": 54
        },
        "outputId": "c9a31d42-4f33-42eb-fd73-24d932a02b52"
      },
      "source": [
        "print(TextProcessor().normalize(\"Studying is #hard. Sometimes you won’t be #prepared. But taking #prescription #drugs is a #dangerous way & get an #edge. Some people have gotten hooked on these #medicines & even died. Just #budget the time to hunker down and hit those #books.?\"))"
      ],
      "execution_count": 263,
      "outputs": [
        {
          "output_type": "stream",
          "text": [
            "['study', 'hard', 'sometimes', 'prepare', 'take', 'prescription', 'drug', 'dangerous', 'way', 'get', 'edge', 'people', 'hook', 'medicine', 'even', 'die', 'budget', 'time', 'hunker', 'hit', 'book']\n"
          ],
          "name": "stdout"
        }
      ]
    },
    {
      "cell_type": "markdown",
      "metadata": {
        "id": "9AS2Y0b-GbRU",
        "colab_type": "text"
      },
      "source": [
        "What is [math]\\frac{\\int_{1x^5}^{3x^{-5}} \\tan(\\tan({\\boxed{\\int_{1x^0}^{1x^2} \\sum_{\\varpi=1}^{\\infty} \\int_{2x^{-3}}^{2x^2} \\sum_{\\alpha=7}^{\\infty} \\underbrace{\\sqrt[2]{1x^5}}_{\\text{Gauss's Law of Theoretical Probability.}} d\\tau dx}}^{1x^0})) d\\mu}{\\int_{2x^{-3}}^{1x^5} \\cos(\\int_{2x^2}^{1x^{-3}} \\frac{\\sqrt[2]{\\overbrace{\\underbrace{\\frac{3x^3+3x^5}{\\sqrt[3]{2x^{-3}}}}_{\\text{Gauss's Law of Theoretical Probability.}} \\times \\overbrace{\\tan(2x^0)}^{\\text{Gauss's Law of Theoretical Probability.}}-\\sum_{4=7}^{\\infty} \\boxed{3x^{-5}}}^{\\text{Inverse Function.}}}}{{\\boxed{\\int_{2x^2}^{2x^4} 3x^1 d9} \\div \\sum_{6=6}^{\\infty} \\sqrt[3]{2x^2}+\\sqrt[4]{\\sin(2x^0+3x^0)}}^{2x^{-4}}+\\boxed{\\frac{\\vec{\\boxed{\\sum_{\\gamma=10}^{\\infty} 1x^{-5}}}}{\\frac{\\sum_{\\iota=2}^{\\infty} 1x^{-5}-\\frac{3x^{-1}}{1x^{-4}}}{\\sin(\\tan(3x^{-2}))}}}} \\times \\boxed{\\sqrt[2]{{{{\\sqrt[5]{2x^5}}^{2x^{-1}}}^{2x^{-1}} \\div \\sum_{\\chi=6}^{\\infty} \\int_{1x^4}^{2x^{-4}} 3x^2 d\\vartheta+{2x^{-3}}^{2x^{-5}}}^{3x^{-4}}}} d\\mu) d\\iota}[/math]?"
      ]
    },
    {
      "cell_type": "code",
      "metadata": {
        "id": "xAWrLXjdPszm",
        "colab_type": "code",
        "colab": {
          "base_uri": "https://localhost:8080/",
          "height": 54
        },
        "outputId": "d57f98ff-d298-422a-b5fe-8d929e9973c5"
      },
      "source": [
        "print(TextProcessor().normalize(r\"What is [math]\\frac{\\int_{1x^5}^{3x^{-5}} \\tan(\\tan({\\boxed{\\int_{1x^0}^{1x^2} \\sum_{\\varpi=1}^{\\infty} \\int_{2x^{-3}}^{2x^2} \\sum_{\\alpha=7}^{\\infty} \\underbrace{\\sqrt[2]{1x^5}}_{\\text{Gauss's Law of Theoretical Probability.}} d\\tau dx}}^{1x^0})) d\\mu}{\\int_{2x^{-3}}^{1x^5} \\cos(\\int_{2x^2}^{1x^{-3}} \\frac{\\sqrt[2]{\\overbrace{\\underbrace{\\frac{3x^3+3x^5}{\\sqrt[3]{2x^{-3}}}}_{\\text{Gauss's Law of Theoretical Probability.}} \\times \\overbrace{\\tan(2x^0)}^{\\text{Gauss's Law of Theoretical Probability.}}-\\sum_{4=7}^{\\infty} \\boxed{3x^{-5}}}^{\\text{Inverse Function.}}}}{{\\boxed{\\int_{2x^2}^{2x^4} 3x^1 d9} \\div \\sum_{6=6}^{\\infty} \\sqrt[3]{2x^2}+\\sqrt[4]{\\sin(2x^0+3x^0)}}^{2x^{-4}}+\\boxed{\\frac{\\vec{\\boxed{\\sum_{\\gamma=10}^{\\infty} 1x^{-5}}}}{\\frac{\\sum_{\\iota=2}^{\\infty} 1x^{-5}-\\frac{3x^{-1}}{1x^{-4}}}{\\sin(\\tan(3x^{-2}))}}}} \\times \\boxed{\\sqrt[2]{{{{\\sqrt[5]{2x^5}}^{2x^{-1}}}^{2x^{-1}} \\div \\sum_{\\chi=6}^{\\infty} \\int_{1x^4}^{2x^{-4}} 3x^2 d\\vartheta+{2x^{-3}}^{2x^{-5}}}^{3x^{-4}}}} d\\mu) d\\iota}[/math]?\"))"
      ],
      "execution_count": 264,
      "outputs": [
        {
          "output_type": "stream",
          "text": [
            "['math', 'frac', 'int_', 'x', 'tan', 'box', 'sum_', 'varpi', 'infty', 'alpha', 'underbrace', 'sqrt', '_', 'text', 'gauss', 'law', 'theoretical', 'probability', 'dtau', 'dx', 'dmu', 'cos', 'overbrace', 'xx', 'time', 'inverse', 'function', 'div', 'sin', 'vec', 'gamma', 'iota', 'chi', 'dvartheta', 'diota']\n"
          ],
          "name": "stdout"
        }
      ]
    },
    {
      "cell_type": "markdown",
      "metadata": {
        "id": "W0c9SG0dQOqY",
        "colab_type": "text"
      },
      "source": [
        "'In \"Star Trek 2013\" why did they :\\n\\n*Spoilers*\\n*Spoilers*\\n*Spoilers*\\n*Spoilers*\\n\\n1)Make warping look quite a bit like an hyperspace jump\\n2)what in the world were those bright particles as soon as they jumped.\\n3)Why in the world did they make it possible for two entities to react in warp space in separate jumps.\\n4)Why did Spock get emotions for this movie.\\n5)What was the point of hiding the \"Enterprise\" underwater.\\n6)When they were intercepted by the dark ship, how come they reached Earth when they were far away from her.(I don\\'t seem to remember the scene where they warp to earth).\\n7)How did the ship enter earth\\'s atmosphere when it wasnt even in orbit.\\n8)When Scotty opened the door of the black ship , how come pike and khan didn\\'t slow down?'"
      ]
    },
    {
      "cell_type": "code",
      "metadata": {
        "id": "f4nu3MM5Pvc5",
        "colab_type": "code",
        "colab": {
          "base_uri": "https://localhost:8080/",
          "height": 54
        },
        "outputId": "3bd1b481-c82e-430b-d945-46f3a60bbc07"
      },
      "source": [
        "print(TextProcessor().normalize('In \"Star Trek 2013\" why did they :\\n\\n*Spoilers*\\n*Spoilers*\\n*Spoilers*\\n*Spoilers*\\n\\n1)Make warping look quite a bit like an hyperspace jump\\n2)what in the world were those bright particles as soon as they jumped.\\n3)Why in the world did they make it possible for two entities to react in warp space in separate jumps.\\n4)Why did Spock get emotions for this movie.\\n5)What was the point of hiding the \"Enterprise\" underwater.\\n6)When they were intercepted by the dark ship, how come they reached Earth when they were far away from her.(I don\\'t seem to remember the scene where they warp to earth).\\n7)How did the ship enter earth\\'s atmosphere when it wasnt even in orbit.\\n8)When Scotty opened the door of the black ship , how come pike and khan didn\\'t slow down?'))"
      ],
      "execution_count": 265,
      "outputs": [
        {
          "output_type": "stream",
          "text": [
            "['star', 'trek', 'spoilers', 'make', 'warp', 'look', 'quite', 'bite', 'like', 'hyperspace', 'jump', 'world', 'bright', 'particles', 'soon', 'possible', 'two', 'entities', 'react', 'space', 'separate', 'spock', 'get', 'emotions', 'movie', 'point', 'hide', 'enterprise', 'underwater', 'intercept', 'dark', 'ship', 'come', 'reach', 'earth', 'far', 'away', 'nt', 'seem', 'remember', 'scene', 'enter', 'atmosphere', 'wasnt', 'even', 'orbit', 'scotty', 'open', 'door', 'black', 'pike', 'khan', 'slow']\n"
          ],
          "name": "stdout"
        }
      ]
    }
  ]
}